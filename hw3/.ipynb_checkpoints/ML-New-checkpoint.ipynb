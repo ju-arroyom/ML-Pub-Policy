{
 "cells": [
  {
   "cell_type": "markdown",
   "metadata": {},
   "source": [
    "# ML- PS3, Juan Arroyo Miranda\n"
   ]
  },
  {
   "cell_type": "code",
   "execution_count": 23,
   "metadata": {
    "scrolled": false
   },
   "outputs": [],
   "source": [
    "%matplotlib inline\n",
    "%run read_files.py\n",
    "%run classify\n",
    "import statsmodels.api as sm\n",
    "import missingno as msno\n",
    "import warnings\n",
    "warnings.filterwarnings(\"ignore\", category=FutureWarning)\n",
    "sns.set_style('whitegrid')\n",
    "\n",
    "plt.rcParams[\"xtick.labelsize\"] = 16\n",
    "plt.rcParams[\"ytick.labelsize\"] = 16\n",
    "plt.rcParams[\"axes.labelsize\"] = 20\n",
    "plt.rcParams['legend.fontsize'] = 20"
   ]
  },
  {
   "cell_type": "markdown",
   "metadata": {},
   "source": [
    "# Part 1: Exploratory Data Analysis"
   ]
  },
  {
   "cell_type": "markdown",
   "metadata": {},
   "source": [
    "This data set is a modified version of data from [Kaggle](https://www.kaggle.com/c/GiveMeSomeCredit).\n",
    "\n",
    "The objective of this analysis is to predict the probability that somebody will experience financial distress in the next two years.\n",
    "\n",
    "Our target variable is **SeriousDlquin2yrs** which takes a value of 1 if the person experienced 90 days past due delinquency or worse, and 0 otherwise."
   ]
  },
  {
   "cell_type": "code",
   "execution_count": 24,
   "metadata": {},
   "outputs": [],
   "source": [
    "df = read_data('credit-data.csv') "
   ]
  },
  {
   "cell_type": "markdown",
   "metadata": {},
   "source": [
    "To better understand our data, we can take a look at different summary statistics for the different features.\n",
    "\n",
    "We can do this with pandas describe method. However, we have to keep in mind that this method omits missing values, so we'll have to check for that later in our analysis."
   ]
  },
  {
   "cell_type": "code",
   "execution_count": 25,
   "metadata": {
    "scrolled": true
   },
   "outputs": [
    {
     "data": {
      "text/html": [
       "<div>\n",
       "<style scoped>\n",
       "    .dataframe tbody tr th:only-of-type {\n",
       "        vertical-align: middle;\n",
       "    }\n",
       "\n",
       "    .dataframe tbody tr th {\n",
       "        vertical-align: top;\n",
       "    }\n",
       "\n",
       "    .dataframe thead th {\n",
       "        text-align: right;\n",
       "    }\n",
       "</style>\n",
       "<table border=\"1\" class=\"dataframe\">\n",
       "  <thead>\n",
       "    <tr style=\"text-align: right;\">\n",
       "      <th></th>\n",
       "      <th>personid</th>\n",
       "      <th>seriousdlqin2yrs</th>\n",
       "      <th>revolvingutilizationofunsecuredlines</th>\n",
       "      <th>age</th>\n",
       "      <th>zipcode</th>\n",
       "      <th>numberoftime30-59dayspastduenotworse</th>\n",
       "      <th>debtratio</th>\n",
       "      <th>monthlyincome</th>\n",
       "      <th>numberofopencreditlinesandloans</th>\n",
       "      <th>numberoftimes90dayslate</th>\n",
       "      <th>numberrealestateloansorlines</th>\n",
       "      <th>numberoftime60-89dayspastduenotworse</th>\n",
       "      <th>numberofdependents</th>\n",
       "    </tr>\n",
       "  </thead>\n",
       "  <tbody>\n",
       "    <tr>\n",
       "      <th>count</th>\n",
       "      <td>150000.000000</td>\n",
       "      <td>150000.000000</td>\n",
       "      <td>150000.000000</td>\n",
       "      <td>150000.000000</td>\n",
       "      <td>150000.000000</td>\n",
       "      <td>150000.000000</td>\n",
       "      <td>150000.000000</td>\n",
       "      <td>1.202690e+05</td>\n",
       "      <td>150000.000000</td>\n",
       "      <td>150000.000000</td>\n",
       "      <td>150000.000000</td>\n",
       "      <td>150000.000000</td>\n",
       "      <td>146076.000000</td>\n",
       "    </tr>\n",
       "    <tr>\n",
       "      <th>mean</th>\n",
       "      <td>75000.500000</td>\n",
       "      <td>0.066840</td>\n",
       "      <td>6.048438</td>\n",
       "      <td>52.295207</td>\n",
       "      <td>60648.810013</td>\n",
       "      <td>0.421033</td>\n",
       "      <td>353.005076</td>\n",
       "      <td>6.670221e+03</td>\n",
       "      <td>8.452760</td>\n",
       "      <td>0.265973</td>\n",
       "      <td>1.018240</td>\n",
       "      <td>0.240387</td>\n",
       "      <td>0.757222</td>\n",
       "    </tr>\n",
       "    <tr>\n",
       "      <th>std</th>\n",
       "      <td>43301.414527</td>\n",
       "      <td>0.249746</td>\n",
       "      <td>249.755371</td>\n",
       "      <td>14.771866</td>\n",
       "      <td>56.748197</td>\n",
       "      <td>4.192781</td>\n",
       "      <td>2037.818523</td>\n",
       "      <td>1.438467e+04</td>\n",
       "      <td>5.145951</td>\n",
       "      <td>4.169304</td>\n",
       "      <td>1.129771</td>\n",
       "      <td>4.155179</td>\n",
       "      <td>1.115086</td>\n",
       "    </tr>\n",
       "    <tr>\n",
       "      <th>min</th>\n",
       "      <td>1.000000</td>\n",
       "      <td>0.000000</td>\n",
       "      <td>0.000000</td>\n",
       "      <td>0.000000</td>\n",
       "      <td>60601.000000</td>\n",
       "      <td>0.000000</td>\n",
       "      <td>0.000000</td>\n",
       "      <td>0.000000e+00</td>\n",
       "      <td>0.000000</td>\n",
       "      <td>0.000000</td>\n",
       "      <td>0.000000</td>\n",
       "      <td>0.000000</td>\n",
       "      <td>0.000000</td>\n",
       "    </tr>\n",
       "    <tr>\n",
       "      <th>25%</th>\n",
       "      <td>37500.750000</td>\n",
       "      <td>0.000000</td>\n",
       "      <td>0.029867</td>\n",
       "      <td>41.000000</td>\n",
       "      <td>60625.000000</td>\n",
       "      <td>0.000000</td>\n",
       "      <td>0.175074</td>\n",
       "      <td>3.400000e+03</td>\n",
       "      <td>5.000000</td>\n",
       "      <td>0.000000</td>\n",
       "      <td>0.000000</td>\n",
       "      <td>0.000000</td>\n",
       "      <td>0.000000</td>\n",
       "    </tr>\n",
       "    <tr>\n",
       "      <th>50%</th>\n",
       "      <td>75000.500000</td>\n",
       "      <td>0.000000</td>\n",
       "      <td>0.154181</td>\n",
       "      <td>52.000000</td>\n",
       "      <td>60629.000000</td>\n",
       "      <td>0.000000</td>\n",
       "      <td>0.366508</td>\n",
       "      <td>5.400000e+03</td>\n",
       "      <td>8.000000</td>\n",
       "      <td>0.000000</td>\n",
       "      <td>1.000000</td>\n",
       "      <td>0.000000</td>\n",
       "      <td>0.000000</td>\n",
       "    </tr>\n",
       "    <tr>\n",
       "      <th>75%</th>\n",
       "      <td>112500.250000</td>\n",
       "      <td>0.000000</td>\n",
       "      <td>0.559046</td>\n",
       "      <td>63.000000</td>\n",
       "      <td>60644.000000</td>\n",
       "      <td>0.000000</td>\n",
       "      <td>0.868254</td>\n",
       "      <td>8.249000e+03</td>\n",
       "      <td>11.000000</td>\n",
       "      <td>0.000000</td>\n",
       "      <td>2.000000</td>\n",
       "      <td>0.000000</td>\n",
       "      <td>1.000000</td>\n",
       "    </tr>\n",
       "    <tr>\n",
       "      <th>max</th>\n",
       "      <td>150000.000000</td>\n",
       "      <td>1.000000</td>\n",
       "      <td>50708.000000</td>\n",
       "      <td>109.000000</td>\n",
       "      <td>60804.000000</td>\n",
       "      <td>98.000000</td>\n",
       "      <td>329664.000000</td>\n",
       "      <td>3.008750e+06</td>\n",
       "      <td>58.000000</td>\n",
       "      <td>98.000000</td>\n",
       "      <td>54.000000</td>\n",
       "      <td>98.000000</td>\n",
       "      <td>20.000000</td>\n",
       "    </tr>\n",
       "  </tbody>\n",
       "</table>\n",
       "</div>"
      ],
      "text/plain": [
       "            personid  seriousdlqin2yrs  revolvingutilizationofunsecuredlines  \\\n",
       "count  150000.000000     150000.000000                         150000.000000   \n",
       "mean    75000.500000          0.066840                              6.048438   \n",
       "std     43301.414527          0.249746                            249.755371   \n",
       "min         1.000000          0.000000                              0.000000   \n",
       "25%     37500.750000          0.000000                              0.029867   \n",
       "50%     75000.500000          0.000000                              0.154181   \n",
       "75%    112500.250000          0.000000                              0.559046   \n",
       "max    150000.000000          1.000000                          50708.000000   \n",
       "\n",
       "                 age        zipcode  numberoftime30-59dayspastduenotworse  \\\n",
       "count  150000.000000  150000.000000                         150000.000000   \n",
       "mean       52.295207   60648.810013                              0.421033   \n",
       "std        14.771866      56.748197                              4.192781   \n",
       "min         0.000000   60601.000000                              0.000000   \n",
       "25%        41.000000   60625.000000                              0.000000   \n",
       "50%        52.000000   60629.000000                              0.000000   \n",
       "75%        63.000000   60644.000000                              0.000000   \n",
       "max       109.000000   60804.000000                             98.000000   \n",
       "\n",
       "           debtratio  monthlyincome  numberofopencreditlinesandloans  \\\n",
       "count  150000.000000   1.202690e+05                    150000.000000   \n",
       "mean      353.005076   6.670221e+03                         8.452760   \n",
       "std      2037.818523   1.438467e+04                         5.145951   \n",
       "min         0.000000   0.000000e+00                         0.000000   \n",
       "25%         0.175074   3.400000e+03                         5.000000   \n",
       "50%         0.366508   5.400000e+03                         8.000000   \n",
       "75%         0.868254   8.249000e+03                        11.000000   \n",
       "max    329664.000000   3.008750e+06                        58.000000   \n",
       "\n",
       "       numberoftimes90dayslate  numberrealestateloansorlines  \\\n",
       "count            150000.000000                 150000.000000   \n",
       "mean                  0.265973                      1.018240   \n",
       "std                   4.169304                      1.129771   \n",
       "min                   0.000000                      0.000000   \n",
       "25%                   0.000000                      0.000000   \n",
       "50%                   0.000000                      1.000000   \n",
       "75%                   0.000000                      2.000000   \n",
       "max                  98.000000                     54.000000   \n",
       "\n",
       "       numberoftime60-89dayspastduenotworse  numberofdependents  \n",
       "count                         150000.000000       146076.000000  \n",
       "mean                               0.240387            0.757222  \n",
       "std                                4.155179            1.115086  \n",
       "min                                0.000000            0.000000  \n",
       "25%                                0.000000            0.000000  \n",
       "50%                                0.000000            0.000000  \n",
       "75%                                0.000000            1.000000  \n",
       "max                               98.000000           20.000000  "
      ]
     },
     "execution_count": 25,
     "metadata": {},
     "output_type": "execute_result"
    }
   ],
   "source": [
    "df.describe()"
   ]
  },
  {
   "cell_type": "markdown",
   "metadata": {},
   "source": [
    "There are some interesting things we can learn about our data:\n",
    "\n",
    " - Most of the people in our data set have not experienced 90 days past due deliquency.\n",
    " \n",
    " \n",
    " - The average number of dependents is less than 1, but greater than zero (0.76). This suggests that a significant amount of the people in data set have, on average, one dependent.\n",
    " \n",
    "   \n",
    " - The average DebtRatio is 353, which means that on average monthly debt (debt payments, alimony,living costs) is 353 times bigger than monthy gross income"
   ]
  },
  {
   "cell_type": "code",
   "execution_count": 26,
   "metadata": {},
   "outputs": [
    {
     "data": {
      "text/plain": [
       "(150000, 13)"
      ]
     },
     "execution_count": 26,
     "metadata": {},
     "output_type": "execute_result"
    }
   ],
   "source": [
    "df.shape"
   ]
  },
  {
   "cell_type": "markdown",
   "metadata": {},
   "source": [
    "## Missing Values and Imputation Analysis"
   ]
  },
  {
   "cell_type": "code",
   "execution_count": 27,
   "metadata": {
    "scrolled": true
   },
   "outputs": [
    {
     "name": "stdout",
     "output_type": "stream",
     "text": [
      "19.8% missing from: Column monthlyincome\n",
      "2.6% missing from: Column numberofdependents\n"
     ]
    }
   ],
   "source": [
    "process_data.percentage_missing(df)"
   ]
  },
  {
   "cell_type": "markdown",
   "metadata": {},
   "source": [
    "#### From our data set only two variables contain missing data: monthly income and number of dependents.\n",
    "\n",
    "- The percentage of missing values for the number of dependent is very small (2.6% of the data). Our analysis will show that values between 0 and 3 dependents are reasonable for imputation, given the empirical distribution we observe in the data.\n",
    "\n",
    "- Unfortunately, the percentage of missing data for monthly income is very large, and it is necessary to carefully analyze wheteher the data is missing at random or not."
   ]
  },
  {
   "cell_type": "code",
   "execution_count": 28,
   "metadata": {},
   "outputs": [
    {
     "data": {
      "text/plain": [
       "<matplotlib.axes._subplots.AxesSubplot at 0x1c0e027a20>"
      ]
     },
     "execution_count": 28,
     "metadata": {},
     "output_type": "execute_result"
    },
    {
     "data": {
      "image/png": "[encoded data removed]",
      "text/plain": [
       "<Figure size 1800x720 with 2 Axes>"
      ]
     },
     "metadata": {},
     "output_type": "display_data"
    }
   ],
   "source": [
    "msno.matrix(df)"
   ]
  },
  {
   "cell_type": "markdown",
   "metadata": {},
   "source": [
    "### Analysis for Number of Dependents\n",
    "\n",
    "To decide how to impute the data for the number of dependents I created a function that does two things:\n",
    "\n",
    "- First, it calculates the cumulative sum of the value counts for each possible group in number of dependents.\n",
    "\n",
    "- Second, it computes the percentage of the observations that fall in each one of these groups."
   ]
  },
  {
   "cell_type": "code",
   "execution_count": 29,
   "metadata": {},
   "outputs": [
    {
     "data": {
      "text/html": [
       "<div>\n",
       "<style scoped>\n",
       "    .dataframe tbody tr th:only-of-type {\n",
       "        vertical-align: middle;\n",
       "    }\n",
       "\n",
       "    .dataframe tbody tr th {\n",
       "        vertical-align: top;\n",
       "    }\n",
       "\n",
       "    .dataframe thead th {\n",
       "        text-align: right;\n",
       "    }\n",
       "</style>\n",
       "<table border=\"1\" class=\"dataframe\">\n",
       "  <thead>\n",
       "    <tr style=\"text-align: right;\">\n",
       "      <th></th>\n",
       "      <th>Count_By_Group</th>\n",
       "      <th>Cumulative_Sum</th>\n",
       "      <th>Percentage_By_Group</th>\n",
       "    </tr>\n",
       "    <tr>\n",
       "      <th>numberofdependents</th>\n",
       "      <th></th>\n",
       "      <th></th>\n",
       "      <th></th>\n",
       "    </tr>\n",
       "  </thead>\n",
       "  <tbody>\n",
       "    <tr>\n",
       "      <th>0.0</th>\n",
       "      <td>86902</td>\n",
       "      <td>86902</td>\n",
       "      <td>59.490950</td>\n",
       "    </tr>\n",
       "    <tr>\n",
       "      <th>1.0</th>\n",
       "      <td>26316</td>\n",
       "      <td>113218</td>\n",
       "      <td>77.506230</td>\n",
       "    </tr>\n",
       "    <tr>\n",
       "      <th>2.0</th>\n",
       "      <td>19522</td>\n",
       "      <td>132740</td>\n",
       "      <td>90.870506</td>\n",
       "    </tr>\n",
       "    <tr>\n",
       "      <th>3.0</th>\n",
       "      <td>9483</td>\n",
       "      <td>142223</td>\n",
       "      <td>97.362332</td>\n",
       "    </tr>\n",
       "    <tr>\n",
       "      <th>4.0</th>\n",
       "      <td>2862</td>\n",
       "      <td>145085</td>\n",
       "      <td>99.321586</td>\n",
       "    </tr>\n",
       "    <tr>\n",
       "      <th>5.0</th>\n",
       "      <td>746</td>\n",
       "      <td>145831</td>\n",
       "      <td>99.832279</td>\n",
       "    </tr>\n",
       "    <tr>\n",
       "      <th>6.0</th>\n",
       "      <td>158</td>\n",
       "      <td>145989</td>\n",
       "      <td>99.940442</td>\n",
       "    </tr>\n",
       "    <tr>\n",
       "      <th>7.0</th>\n",
       "      <td>51</td>\n",
       "      <td>146040</td>\n",
       "      <td>99.975355</td>\n",
       "    </tr>\n",
       "    <tr>\n",
       "      <th>8.0</th>\n",
       "      <td>24</td>\n",
       "      <td>146064</td>\n",
       "      <td>99.991785</td>\n",
       "    </tr>\n",
       "    <tr>\n",
       "      <th>9.0</th>\n",
       "      <td>5</td>\n",
       "      <td>146069</td>\n",
       "      <td>99.995208</td>\n",
       "    </tr>\n",
       "    <tr>\n",
       "      <th>10.0</th>\n",
       "      <td>5</td>\n",
       "      <td>146074</td>\n",
       "      <td>99.998631</td>\n",
       "    </tr>\n",
       "    <tr>\n",
       "      <th>13.0</th>\n",
       "      <td>1</td>\n",
       "      <td>146075</td>\n",
       "      <td>99.999315</td>\n",
       "    </tr>\n",
       "    <tr>\n",
       "      <th>20.0</th>\n",
       "      <td>1</td>\n",
       "      <td>146076</td>\n",
       "      <td>100.000000</td>\n",
       "    </tr>\n",
       "  </tbody>\n",
       "</table>\n",
       "</div>"
      ],
      "text/plain": [
       "                    Count_By_Group  Cumulative_Sum  Percentage_By_Group\n",
       "numberofdependents                                                     \n",
       "0.0                          86902           86902            59.490950\n",
       "1.0                          26316          113218            77.506230\n",
       "2.0                          19522          132740            90.870506\n",
       "3.0                           9483          142223            97.362332\n",
       "4.0                           2862          145085            99.321586\n",
       "5.0                            746          145831            99.832279\n",
       "6.0                            158          145989            99.940442\n",
       "7.0                             51          146040            99.975355\n",
       "8.0                             24          146064            99.991785\n",
       "9.0                              5          146069            99.995208\n",
       "10.0                             5          146074            99.998631\n",
       "13.0                             1          146075            99.999315\n",
       "20.0                             1          146076           100.000000"
      ]
     },
     "execution_count": 29,
     "metadata": {},
     "output_type": "execute_result"
    }
   ],
   "source": [
    "process_data.des_by_category(df, 'numberofdependents')"
   ]
  },
  {
   "cell_type": "markdown",
   "metadata": {},
   "source": [
    "## Tables are nice, but some visualization are in order"
   ]
  },
  {
   "cell_type": "code",
   "execution_count": 30,
   "metadata": {},
   "outputs": [
    {
     "data": {
      "image/png": "[encoded data removed]",
      "text/plain": [
       "<Figure size 792x504 with 2 Axes>"
      ]
     },
     "metadata": {},
     "output_type": "display_data"
    }
   ],
   "source": [
    "process_data.frequency_plots(df, 'numberofdependents')"
   ]
  },
  {
   "cell_type": "markdown",
   "metadata": {},
   "source": [
    "The plots show that the distribution of the number of dependents is skewed to the right, with most people\n",
    "(86,902) having zero dependents. The boxplot shows the presence of some outliers, however, 90.87 % of\n",
    "the population concentrates between 0 and 2 dependents. Therefore, it would be reasonable to impute\n",
    "dependents drawn randomly between 0 and 2. While performing this imputation, I will take into account the\n",
    "frequencies observed in the data for groups 0, 1, and 2."
   ]
  },
  {
   "cell_type": "markdown",
   "metadata": {},
   "source": [
    "### Imputation Strategy for number of dependents\n",
    "\n",
    "From our previous analysis, we know that approximately 91% of the individuals in our data set have between 0 and 2 dependents. We also know the empirical distribution of those dependents.\n",
    "\n",
    "Based on this, our strategy consists on imputing values between 0 and 2.\n",
    "\n",
    "Looking at the empirical frequency of values in the data, we will assume that it is representative of the population distribution for number of dependents.\n",
    "\n",
    "The `impute_val_to_column` in the `process_data.py` module takes care of the imputation for us.\n",
    "\n",
    "For example, a list containing the following list distribution `[0.65,0.2,0.15]` will draw a zero 65% of the times, a one 20% of the times, and a two 15% of the times."
   ]
  },
  {
   "cell_type": "markdown",
   "metadata": {},
   "source": [
    "## Analysis for Monthly Income"
   ]
  },
  {
   "cell_type": "markdown",
   "metadata": {},
   "source": [
    "One way to determine whether the missing data for the monthly income variable are missing at random is to create a dummy variable that takes the value of 1 if the data is missing (and zero otherwise), and check the correlation with the other features.\n",
    "\n",
    "A strong correlation with some variable would suggest that the observations are not missing at random."
   ]
  },
  {
   "cell_type": "code",
   "execution_count": 31,
   "metadata": {},
   "outputs": [],
   "source": [
    "df[\"dummy\"] = 0\n",
    "mask = df['monthlyincome'].isnull()\n",
    "column_name = 'dummy'\n",
    "df.loc[mask, column_name] = 1"
   ]
  },
  {
   "cell_type": "markdown",
   "metadata": {},
   "source": [
    "Check that the percentage matches of 1's matches the percentage of 0's"
   ]
  },
  {
   "cell_type": "code",
   "execution_count": 32,
   "metadata": {
    "scrolled": true
   },
   "outputs": [
    {
     "data": {
      "text/plain": [
       "count    150000.000000\n",
       "mean          0.198207\n",
       "std           0.398650\n",
       "min           0.000000\n",
       "25%           0.000000\n",
       "50%           0.000000\n",
       "75%           0.000000\n",
       "max           1.000000\n",
       "Name: dummy, dtype: float64"
      ]
     },
     "execution_count": 32,
     "metadata": {},
     "output_type": "execute_result"
    }
   ],
   "source": [
    "df[\"dummy\"].describe()"
   ]
  },
  {
   "cell_type": "code",
   "execution_count": 33,
   "metadata": {},
   "outputs": [],
   "source": [
    "X = df.drop(['monthlyincome', 'personid', 'seriousdlqin2yrs'], axis=1)"
   ]
  },
  {
   "cell_type": "code",
   "execution_count": 34,
   "metadata": {},
   "outputs": [
    {
     "data": {
      "image/png": "[encoded data removed]",
      "text/plain": [
       "<Figure size 432x288 with 2 Axes>"
      ]
     },
     "metadata": {},
     "output_type": "display_data"
    }
   ],
   "source": [
    "process_data.plot_corr_matrix(X)"
   ]
  },
  {
   "cell_type": "markdown",
   "metadata": {},
   "source": [
    "Our correlation plot shows the our dummy variable does not seem to be strongly correlated with any of the other features in our data set, with the exception, perhaps, of the debtratio variable."
   ]
  },
  {
   "cell_type": "markdown",
   "metadata": {},
   "source": [
    "If there is a statiscally significant difference between the mean of the missing data and the mean of the non-missing data, then we reject the null hypothesis that the mean across groups is the same."
   ]
  },
  {
   "cell_type": "code",
   "execution_count": 35,
   "metadata": {},
   "outputs": [],
   "source": [
    "groups = X.drop([\"zipcode\"], axis = 1).groupby([\"dummy\"]).mean() # Mean zipcode does not make sense as feature."
   ]
  },
  {
   "cell_type": "code",
   "execution_count": 36,
   "metadata": {
    "scrolled": true
   },
   "outputs": [
    {
     "data": {
      "text/html": [
       "<div>\n",
       "<style scoped>\n",
       "    .dataframe tbody tr th:only-of-type {\n",
       "        vertical-align: middle;\n",
       "    }\n",
       "\n",
       "    .dataframe tbody tr th {\n",
       "        vertical-align: top;\n",
       "    }\n",
       "\n",
       "    .dataframe thead th {\n",
       "        text-align: right;\n",
       "    }\n",
       "</style>\n",
       "<table border=\"1\" class=\"dataframe\">\n",
       "  <thead>\n",
       "    <tr style=\"text-align: right;\">\n",
       "      <th>dummy</th>\n",
       "      <th>0</th>\n",
       "      <th>1</th>\n",
       "    </tr>\n",
       "  </thead>\n",
       "  <tbody>\n",
       "    <tr>\n",
       "      <th>revolvingutilizationofunsecuredlines</th>\n",
       "      <td>5.899873</td>\n",
       "      <td>6.649421</td>\n",
       "    </tr>\n",
       "    <tr>\n",
       "      <th>age</th>\n",
       "      <td>51.289792</td>\n",
       "      <td>56.362349</td>\n",
       "    </tr>\n",
       "    <tr>\n",
       "      <th>numberoftime30-59dayspastduenotworse</th>\n",
       "      <td>0.381769</td>\n",
       "      <td>0.579866</td>\n",
       "    </tr>\n",
       "    <tr>\n",
       "      <th>debtratio</th>\n",
       "      <td>26.598777</td>\n",
       "      <td>1673.396556</td>\n",
       "    </tr>\n",
       "    <tr>\n",
       "      <th>numberofopencreditlinesandloans</th>\n",
       "      <td>8.758475</td>\n",
       "      <td>7.216071</td>\n",
       "    </tr>\n",
       "    <tr>\n",
       "      <th>numberoftimes90dayslate</th>\n",
       "      <td>0.211925</td>\n",
       "      <td>0.484612</td>\n",
       "    </tr>\n",
       "    <tr>\n",
       "      <th>numberrealestateloansorlines</th>\n",
       "      <td>1.054519</td>\n",
       "      <td>0.871481</td>\n",
       "    </tr>\n",
       "    <tr>\n",
       "      <th>numberoftime60-89dayspastduenotworse</th>\n",
       "      <td>0.187829</td>\n",
       "      <td>0.452995</td>\n",
       "    </tr>\n",
       "    <tr>\n",
       "      <th>numberofdependents</th>\n",
       "      <td>0.851832</td>\n",
       "      <td>0.316310</td>\n",
       "    </tr>\n",
       "  </tbody>\n",
       "</table>\n",
       "</div>"
      ],
      "text/plain": [
       "dummy                                         0            1\n",
       "revolvingutilizationofunsecuredlines   5.899873     6.649421\n",
       "age                                   51.289792    56.362349\n",
       "numberoftime30-59dayspastduenotworse   0.381769     0.579866\n",
       "debtratio                             26.598777  1673.396556\n",
       "numberofopencreditlinesandloans        8.758475     7.216071\n",
       "numberoftimes90dayslate                0.211925     0.484612\n",
       "numberrealestateloansorlines           1.054519     0.871481\n",
       "numberoftime60-89dayspastduenotworse   0.187829     0.452995\n",
       "numberofdependents                     0.851832     0.316310"
      ]
     },
     "execution_count": 36,
     "metadata": {},
     "output_type": "execute_result"
    }
   ],
   "source": [
    "groups.T"
   ]
  },
  {
   "cell_type": "markdown",
   "metadata": {},
   "source": [
    "The table already shows that there is a difference between groups in terms of debtratio, but we still need to provide statistical evidence for this claim."
   ]
  },
  {
   "cell_type": "code",
   "execution_count": 37,
   "metadata": {
    "scrolled": false
   },
   "outputs": [],
   "source": [
    "d = process_data.generate_test_stats(X.drop([\"zipcode\"], axis = 1), list(X.drop([\"zipcode\"], axis = 1).columns))"
   ]
  },
  {
   "cell_type": "code",
   "execution_count": 38,
   "metadata": {
    "scrolled": true
   },
   "outputs": [
    {
     "data": {
      "text/html": [
       "<div>\n",
       "<style scoped>\n",
       "    .dataframe tbody tr th:only-of-type {\n",
       "        vertical-align: middle;\n",
       "    }\n",
       "\n",
       "    .dataframe tbody tr th {\n",
       "        vertical-align: top;\n",
       "    }\n",
       "\n",
       "    .dataframe thead th {\n",
       "        text-align: right;\n",
       "    }\n",
       "</style>\n",
       "<table border=\"1\" class=\"dataframe\">\n",
       "  <thead>\n",
       "    <tr style=\"text-align: right;\">\n",
       "      <th></th>\n",
       "      <th>p-values</th>\n",
       "    </tr>\n",
       "  </thead>\n",
       "  <tbody>\n",
       "    <tr>\n",
       "      <th>age</th>\n",
       "      <td>0.000000e+00</td>\n",
       "    </tr>\n",
       "    <tr>\n",
       "      <th>debtratio</th>\n",
       "      <td>0.000000e+00</td>\n",
       "    </tr>\n",
       "    <tr>\n",
       "      <th>numberofdependents</th>\n",
       "      <td>0.000000e+00</td>\n",
       "    </tr>\n",
       "    <tr>\n",
       "      <th>numberofopencreditlinesandloans</th>\n",
       "      <td>0.000000e+00</td>\n",
       "    </tr>\n",
       "    <tr>\n",
       "      <th>numberoftime30-59dayspastduenotworse</th>\n",
       "      <td>2.976618e-13</td>\n",
       "    </tr>\n",
       "    <tr>\n",
       "      <th>numberoftime60-89dayspastduenotworse</th>\n",
       "      <td>6.550930e-23</td>\n",
       "    </tr>\n",
       "    <tr>\n",
       "      <th>numberoftimes90dayslate</th>\n",
       "      <td>5.535300e-24</td>\n",
       "    </tr>\n",
       "    <tr>\n",
       "      <th>numberrealestateloansorlines</th>\n",
       "      <td>2.217983e-138</td>\n",
       "    </tr>\n",
       "    <tr>\n",
       "      <th>revolvingutilizationofunsecuredlines</th>\n",
       "      <td>6.431040e-01</td>\n",
       "    </tr>\n",
       "  </tbody>\n",
       "</table>\n",
       "</div>"
      ],
      "text/plain": [
       "                                           p-values\n",
       "age                                    0.000000e+00\n",
       "debtratio                              0.000000e+00\n",
       "numberofdependents                     0.000000e+00\n",
       "numberofopencreditlinesandloans        0.000000e+00\n",
       "numberoftime30-59dayspastduenotworse   2.976618e-13\n",
       "numberoftime60-89dayspastduenotworse   6.550930e-23\n",
       "numberoftimes90dayslate                5.535300e-24\n",
       "numberrealestateloansorlines          2.217983e-138\n",
       "revolvingutilizationofunsecuredlines   6.431040e-01"
      ]
     },
     "execution_count": 38,
     "metadata": {},
     "output_type": "execute_result"
    }
   ],
   "source": [
    "dict_ = process_data.test_means(d)\n",
    "pd.DataFrame(dict_ ,index = ['p-values']).T"
   ]
  },
  {
   "cell_type": "markdown",
   "metadata": {},
   "source": [
    "### Monthly Income Data is not missing at random!!!\n",
    "\n",
    "The mean tests for all the covariates in our auxiliary matrix X show that there is a statistically significant difference between the mean of missing and non-missing values.\n",
    "\n",
    "Therefore, it is important to us an imputation technique that takes into account that monthly income is a function of all other covariates."
   ]
  },
  {
   "cell_type": "markdown",
   "metadata": {},
   "source": [
    "### Imputation Strategy\n",
    "\n",
    "\n",
    "A good way to get a good prediction for missing data is using the **Random Forest Classifier** to predict missing values for monthly income.\n",
    "\n",
    "The imputation strategy can be seen in the `classify.py` module under`rf_imputation`:\n",
    "\n",
    "- Train on the subset of the data that has no missing values for monthly income.\n",
    "\n",
    "- Predict on the subset of the data that corresponds to the missing values.\n",
    "\n",
    "- Insert the predictions in the corresponding indices in the dataframe.\n",
    "\n",
    "- This imputation procedure is repeated on our Test set, once we do the Train-Test split.\n",
    "\n",
    "\n",
    "The reasons for choosing this classifier are the following:\n",
    "\n",
    "- By creating different trees selecting random subset of features it reduces the variance in our model.\n",
    "\n",
    "- By averaging the different predicitions, it reduces the bias for our prediction."
   ]
  },
  {
   "cell_type": "markdown",
   "metadata": {},
   "source": [
    "#  Part 2: Feature Enginnering"
   ]
  },
  {
   "cell_type": "markdown",
   "metadata": {},
   "source": [
    "Our original data set contains a mix of continuous and discrete features.\n",
    "\n",
    "To engineer our features, we will perform at least one of the following transformation:\n",
    "\n",
    " - Discretize a continuous variable into different ranges.\n",
    " \n",
    " - Encode non-ordinal/ordinal numeric variables as dummies.\n",
    " \n",
    " - Normalize features to control for high variability in the data.\n",
    " \n",
    " \n",
    "<u>Examples:</u>\n",
    "\n",
    "Variables like **zip code** may contain relevant information related to our target variable. However, zip code number has no ordinal interpretation.\n",
    "\n",
    "In this case, we can better exploit the information in this feature by encoding each zip code as a dummy variable and adding it to our data set.\n",
    "\n",
    "Features like monthly income or revolving utilization of unsecuredlines, show high variability in the data. To avoid that the presence of outliers 'contaminates' with noise our prediction, we normalized these features.\n",
    "\n",
    "\n",
    "To increase the number of features in our data set, we decided to discretize the **age** variable by condering the groups of individuals that fall in different 5 year cohorts, i.e., 20-25, 25-30, ..., etc.\n",
    "\n",
    "As follwing table shows, discretizing age allows us to look at different patterns than before.\n",
    "\n",
    "Finally, we convert this buckets into dummy variables for the models."
   ]
  },
  {
   "cell_type": "markdown",
   "metadata": {},
   "source": [
    "### Discretize: A way to see different patterns"
   ]
  },
  {
   "cell_type": "code",
   "execution_count": 39,
   "metadata": {},
   "outputs": [],
   "source": [
    "bins_age = range(20,120,5)\n",
    "discr = df.copy()\n",
    "age_bucket = process_data.discretize(discr, 'age', bins_age)"
   ]
  },
  {
   "cell_type": "markdown",
   "metadata": {},
   "source": [
    "Two facts abouts the age buckets:\n",
    "\n",
    " - People between 25 and 30 years are more likely to be in serious financial distress. This seems to be consistent with the idea that young people are usually struggling with college debts.\n",
    " \n",
    " - The highest debt ratio is for the 105-110 group with a 1132 debt to income ratio, followed by the 60-65 group."
   ]
  },
  {
   "cell_type": "code",
   "execution_count": 40,
   "metadata": {
    "scrolled": false
   },
   "outputs": [
    {
     "data": {
      "text/html": [
       "<div>\n",
       "<style scoped>\n",
       "    .dataframe tbody tr th:only-of-type {\n",
       "        vertical-align: middle;\n",
       "    }\n",
       "\n",
       "    .dataframe tbody tr th {\n",
       "        vertical-align: top;\n",
       "    }\n",
       "\n",
       "    .dataframe thead th {\n",
       "        text-align: right;\n",
       "    }\n",
       "</style>\n",
       "<table border=\"1\" class=\"dataframe\">\n",
       "  <thead>\n",
       "    <tr style=\"text-align: right;\">\n",
       "      <th></th>\n",
       "      <th>seriousdlqin2yrs</th>\n",
       "      <th>debtratio</th>\n",
       "      <th>monthlyincome</th>\n",
       "    </tr>\n",
       "    <tr>\n",
       "      <th>bins_age</th>\n",
       "      <th></th>\n",
       "      <th></th>\n",
       "      <th></th>\n",
       "    </tr>\n",
       "  </thead>\n",
       "  <tbody>\n",
       "    <tr>\n",
       "      <th>(20, 25]</th>\n",
       "      <td>0.111662</td>\n",
       "      <td>42.920471</td>\n",
       "      <td>1992.730087</td>\n",
       "    </tr>\n",
       "    <tr>\n",
       "      <th>(25, 30]</th>\n",
       "      <td>0.117206</td>\n",
       "      <td>117.821546</td>\n",
       "      <td>3673.554835</td>\n",
       "    </tr>\n",
       "    <tr>\n",
       "      <th>(30, 35]</th>\n",
       "      <td>0.106916</td>\n",
       "      <td>194.727712</td>\n",
       "      <td>5180.510545</td>\n",
       "    </tr>\n",
       "    <tr>\n",
       "      <th>(35, 40]</th>\n",
       "      <td>0.091323</td>\n",
       "      <td>306.427843</td>\n",
       "      <td>6188.330111</td>\n",
       "    </tr>\n",
       "    <tr>\n",
       "      <th>(40, 45]</th>\n",
       "      <td>0.085452</td>\n",
       "      <td>344.803221</td>\n",
       "      <td>7243.002241</td>\n",
       "    </tr>\n",
       "    <tr>\n",
       "      <th>(45, 50]</th>\n",
       "      <td>0.080089</td>\n",
       "      <td>384.760632</td>\n",
       "      <td>7437.940519</td>\n",
       "    </tr>\n",
       "    <tr>\n",
       "      <th>(50, 55]</th>\n",
       "      <td>0.071553</td>\n",
       "      <td>404.127353</td>\n",
       "      <td>7867.948751</td>\n",
       "    </tr>\n",
       "    <tr>\n",
       "      <th>(55, 60]</th>\n",
       "      <td>0.051402</td>\n",
       "      <td>481.970435</td>\n",
       "      <td>7627.215218</td>\n",
       "    </tr>\n",
       "    <tr>\n",
       "      <th>(60, 65]</th>\n",
       "      <td>0.040095</td>\n",
       "      <td>523.597311</td>\n",
       "      <td>7511.872990</td>\n",
       "    </tr>\n",
       "    <tr>\n",
       "      <th>(65, 70]</th>\n",
       "      <td>0.026635</td>\n",
       "      <td>421.772835</td>\n",
       "      <td>7112.028998</td>\n",
       "    </tr>\n",
       "    <tr>\n",
       "      <th>(70, 75]</th>\n",
       "      <td>0.025443</td>\n",
       "      <td>310.437559</td>\n",
       "      <td>5849.254312</td>\n",
       "    </tr>\n",
       "    <tr>\n",
       "      <th>(75, 80]</th>\n",
       "      <td>0.020605</td>\n",
       "      <td>217.186998</td>\n",
       "      <td>5331.773703</td>\n",
       "    </tr>\n",
       "    <tr>\n",
       "      <th>(80, 85]</th>\n",
       "      <td>0.018992</td>\n",
       "      <td>146.774915</td>\n",
       "      <td>5429.478192</td>\n",
       "    </tr>\n",
       "    <tr>\n",
       "      <th>(85, 90]</th>\n",
       "      <td>0.021921</td>\n",
       "      <td>147.845777</td>\n",
       "      <td>5061.641053</td>\n",
       "    </tr>\n",
       "    <tr>\n",
       "      <th>(90, 95]</th>\n",
       "      <td>0.018779</td>\n",
       "      <td>159.781791</td>\n",
       "      <td>6148.312775</td>\n",
       "    </tr>\n",
       "    <tr>\n",
       "      <th>(95, 100]</th>\n",
       "      <td>0.040000</td>\n",
       "      <td>61.761298</td>\n",
       "      <td>4337.227273</td>\n",
       "    </tr>\n",
       "    <tr>\n",
       "      <th>(100, 105]</th>\n",
       "      <td>0.100000</td>\n",
       "      <td>185.579145</td>\n",
       "      <td>2144.500000</td>\n",
       "    </tr>\n",
       "    <tr>\n",
       "      <th>(105, 110]</th>\n",
       "      <td>0.000000</td>\n",
       "      <td>1132.666667</td>\n",
       "      <td>NaN</td>\n",
       "    </tr>\n",
       "    <tr>\n",
       "      <th>(110, 115]</th>\n",
       "      <td>NaN</td>\n",
       "      <td>NaN</td>\n",
       "      <td>NaN</td>\n",
       "    </tr>\n",
       "  </tbody>\n",
       "</table>\n",
       "</div>"
      ],
      "text/plain": [
       "            seriousdlqin2yrs    debtratio  monthlyincome\n",
       "bins_age                                                \n",
       "(20, 25]            0.111662    42.920471    1992.730087\n",
       "(25, 30]            0.117206   117.821546    3673.554835\n",
       "(30, 35]            0.106916   194.727712    5180.510545\n",
       "(35, 40]            0.091323   306.427843    6188.330111\n",
       "(40, 45]            0.085452   344.803221    7243.002241\n",
       "(45, 50]            0.080089   384.760632    7437.940519\n",
       "(50, 55]            0.071553   404.127353    7867.948751\n",
       "(55, 60]            0.051402   481.970435    7627.215218\n",
       "(60, 65]            0.040095   523.597311    7511.872990\n",
       "(65, 70]            0.026635   421.772835    7112.028998\n",
       "(70, 75]            0.025443   310.437559    5849.254312\n",
       "(75, 80]            0.020605   217.186998    5331.773703\n",
       "(80, 85]            0.018992   146.774915    5429.478192\n",
       "(85, 90]            0.021921   147.845777    5061.641053\n",
       "(90, 95]            0.018779   159.781791    6148.312775\n",
       "(95, 100]           0.040000    61.761298    4337.227273\n",
       "(100, 105]          0.100000   185.579145    2144.500000\n",
       "(105, 110]          0.000000  1132.666667            NaN\n",
       "(110, 115]               NaN          NaN            NaN"
      ]
     },
     "execution_count": 40,
     "metadata": {},
     "output_type": "execute_result"
    }
   ],
   "source": [
    "d1 = discr[['seriousdlqin2yrs', 'bins_age']].groupby(['bins_age']).mean()\n",
    "d2 = discr[['debtratio', 'bins_age']].groupby(['bins_age']).mean()\n",
    "d3 = discr[['monthlyincome', 'bins_age']].groupby(['bins_age']).mean() #Does not include Nan values\n",
    "pd.concat([d1,d2, d3], axis =1)"
   ]
  },
  {
   "cell_type": "markdown",
   "metadata": {},
   "source": [
    "# Parts 3: Model Selection and Implementation"
   ]
  },
  {
   "cell_type": "markdown",
   "metadata": {},
   "source": [
    "### Define target variable and features:"
   ]
  },
  {
   "cell_type": "code",
   "execution_count": 41,
   "metadata": {},
   "outputs": [],
   "source": [
    "y = df['seriousdlqin2yrs']\n",
    "X = df.drop(['seriousdlqin2yrs'], axis=1)"
   ]
  },
  {
   "cell_type": "markdown",
   "metadata": {},
   "source": [
    "###  Which Classifiers ?"
   ]
  },
  {
   "cell_type": "markdown",
   "metadata": {},
   "source": [
    "Since we are dealing with the prediction of a binary outcome, our task is to predict correctly the target label (0 or 1).\n",
    "\n",
    "We can think about this problem as prediciting the probability of belonging to one class or the other.\n",
    "\n",
    "The task of the classifier can be summarized in two steps:\n",
    "\n",
    "- Classify our predictions, $ y^{*} = f(\\mathrm{x}; \\mathrm{w}^{*})$, based on a **decision rule**:\n",
    "\n",
    "\\begin{equation} \n",
    "  y^{*} = \n",
    " \\begin{cases}  1 \\quad \\text{if} \\quad f(\\mathrm{x}; \\mathrm{w}^{*}) \\ge threshold\\\\\n",
    " 0 \\quad \\text{otherwise} \n",
    " \\end{cases}\n",
    " \\end{equation}\n",
    "\n",
    "- Separate the space into two \\half-spaces\" through a decision boundary\n",
    "\n",
    "Some common choices to deal with this type of classification problem are:\n",
    "\n",
    "- Logistic Regression\n",
    "\n",
    "- Decision Trees\n",
    "\n",
    "- Random Forests\n",
    "\n",
    "- Naive Bayes \n",
    "    - (Commonly used as a benchmark to compare the performance of all other classifiers.)\n",
    "\n",
    "- Support Vector Machines"
   ]
  },
  {
   "cell_type": "markdown",
   "metadata": {},
   "source": [
    "# Define models\n"
   ]
  },
  {
   "cell_type": "code",
   "execution_count": 42,
   "metadata": {},
   "outputs": [],
   "source": [
    "models_to_run=['LR','DT','RF','NB','LSVC']"
   ]
  },
  {
   "cell_type": "markdown",
   "metadata": {},
   "source": [
    "### Hyperparameter Selection\n",
    "\n",
    "Parameter tuning is a crucial step for the model selection.\n",
    "Our goal is to select a model that learns the most significant patterns from the training data without overtting our data.\n",
    "We want to avoid overfitting because an overfitted model responds poorly to unseen data, i.e., it has a high variance.\n",
    "\n",
    "For our list of models, we can tune the following parameters:\n",
    "\n",
    "**Logistic Regression**\n",
    "\n",
    "- We want to control the complexity of our models to avoid over-fitting. We can do this by imposing a penalty on the size of our coefficients. Two ways to measure size is through L1 and L2 norms. The difference in functional form allows L1 to produce sparsity for sufficiently small values of $\\beta_i$\n",
    "    \n",
    "- Our regularization parameter $\\lambda$. The hyperparameter $\\lambda$ controls the bias-variance tradeoff  by adjusting the weight of the penalty term. If $\\lambda$ is increased, model complexity will be reduced.\n",
    "\n",
    "**Random Forests**\n",
    " \n",
    "It is an ensemble methond that fits a number of decision tree classifiers on various sub-samples of the dataset and uses averaging to improve the predictive accuracy and control over-fitting.\n",
    "\n",
    "- criterion: Our measure for to estimate information gain after each split. \n",
    " We choose the split that produces the most homogenous (in terms of correctly classified data) set after evaluating diffetent decision rules.\n",
    "- n_estimators: The number of trees in the forest.\n",
    "- max_depth: How many splits we want to take into account.\n",
    "- min_samples_split: This regulates how wide or narrow each tree should be before making a split.\n",
    "\n",
    "**Linear Support Vector Machine (LSVM)**\n",
    "- In a similar way to Logistic Regression, we can specify the penalty type we wish to use.\n",
    "- Our penalty parameter C has a different interpretation. When the data is not linearly separable, we want to allow for some misclassifications. C is the value we use to penalize misclassifications.\n"
   ]
  },
  {
   "cell_type": "markdown",
   "metadata": {},
   "source": [
    "### Define Hyperparameters\n",
    "\n",
    "When we are first exploring a classification problem, we may not have a good intuition about how to tune our hyperparameters. A first approach to build some insight for future model selection is to set some values that cover a wide range of options and check all possible model combinations. The result of this approach will help us gain some insight to refine our search.\n",
    "\n",
    "`sklearn` provides a nice tool to perform this, the `ParameterGrid` class.\n",
    "\n",
    "We provide a dictionary containing our models and specifications and we compute all possible combinatios."
   ]
  },
  {
   "cell_type": "code",
   "execution_count": 43,
   "metadata": {},
   "outputs": [],
   "source": [
    "    small_grid = { \n",
    "    'RF':{'n_estimators': [10,20,30,40], 'max_depth': [5,10,15,20],'min_samples_split': [2,5,10]},\n",
    "    'LR': { 'penalty': ['l1','l2'], 'C': [0.001,0.1,1,10,100,1000,10000]},\n",
    "    'DT': {'criterion': ['gini', 'entropy'], 'max_depth': [5,10,14], 'min_samples_split': [2,5,10]},\n",
    "    'LSVC' :{'penalty': ['l1','l2'], 'C' :[0.001,0.01,0.1,1,10]},\n",
    "    'NB':{}\n",
    "           }"
   ]
  },
  {
   "cell_type": "markdown",
   "metadata": {},
   "source": [
    "### Results Data Frame\n",
    "\n",
    "The `do_learning` function runs every model in the hyperparameter grid defined above. The function implements a modified version of [Rayid Ghani](https://github.com/rayidghani/magicloops/blob/master/magicloop.py).\n",
    "\n",
    "Since we are looking for the best possible prediction, it is important to do a search of hyperparameter space.\n",
    "\n",
    "The search described above is far from exhaustive, but it serves as an example of type of work that is necessary in the model selection stage."
   ]
  },
  {
   "cell_type": "code",
   "execution_count": 44,
   "metadata": {
    "scrolled": false
   },
   "outputs": [
    {
     "name": "stdout",
     "output_type": "stream",
     "text": [
      "LR\n",
      "DT\n",
      "RF\n",
      "NB\n",
      "LSVC\n"
     ]
    }
   ],
   "source": [
    "results, matrix = do_learning(models_to_run, 'small', X, y)"
   ]
  },
  {
   "cell_type": "markdown",
   "metadata": {},
   "source": [
    "### Sort Results by Metric of Choice: Area Under the ROC Curve (AUC)"
   ]
  },
  {
   "cell_type": "code",
   "execution_count": 45,
   "metadata": {},
   "outputs": [],
   "source": [
    "sorted_results = results.sort_values('auc-roc', ascending=False)\n",
    "sorted_results = sorted_results[['model_type', 'parameters','train_time','predict_time','auc-roc']]"
   ]
  },
  {
   "cell_type": "code",
   "execution_count": 46,
   "metadata": {
    "scrolled": true
   },
   "outputs": [
    {
     "data": {
      "text/html": [
       "<div>\n",
       "<style scoped>\n",
       "    .dataframe tbody tr th:only-of-type {\n",
       "        vertical-align: middle;\n",
       "    }\n",
       "\n",
       "    .dataframe tbody tr th {\n",
       "        vertical-align: top;\n",
       "    }\n",
       "\n",
       "    .dataframe thead th {\n",
       "        text-align: right;\n",
       "    }\n",
       "</style>\n",
       "<table border=\"1\" class=\"dataframe\">\n",
       "  <thead>\n",
       "    <tr style=\"text-align: right;\">\n",
       "      <th></th>\n",
       "      <th>model_type</th>\n",
       "      <th>parameters</th>\n",
       "      <th>train_time</th>\n",
       "      <th>predict_time</th>\n",
       "      <th>auc-roc</th>\n",
       "    </tr>\n",
       "  </thead>\n",
       "  <tbody>\n",
       "    <tr>\n",
       "      <th>61</th>\n",
       "      <td>RF</td>\n",
       "      <td>{'max_depth': 5, 'max_features': 'log2', 'min_...</td>\n",
       "      <td>1.508849</td>\n",
       "      <td>1.716683</td>\n",
       "      <td>0.815936</td>\n",
       "    </tr>\n",
       "    <tr>\n",
       "      <th>63</th>\n",
       "      <td>RF</td>\n",
       "      <td>{'max_depth': 5, 'max_features': 'log2', 'min_...</td>\n",
       "      <td>1.503789</td>\n",
       "      <td>1.608821</td>\n",
       "      <td>0.815655</td>\n",
       "    </tr>\n",
       "    <tr>\n",
       "      <th>59</th>\n",
       "      <td>RF</td>\n",
       "      <td>{'max_depth': 5, 'max_features': 'sqrt', 'min_...</td>\n",
       "      <td>1.708672</td>\n",
       "      <td>1.831885</td>\n",
       "      <td>0.814522</td>\n",
       "    </tr>\n",
       "    <tr>\n",
       "      <th>57</th>\n",
       "      <td>RF</td>\n",
       "      <td>{'max_depth': 5, 'max_features': 'sqrt', 'min_...</td>\n",
       "      <td>2.207607</td>\n",
       "      <td>1.833674</td>\n",
       "      <td>0.813801</td>\n",
       "    </tr>\n",
       "    <tr>\n",
       "      <th>56</th>\n",
       "      <td>RF</td>\n",
       "      <td>{'max_depth': 5, 'max_features': 'sqrt', 'min_...</td>\n",
       "      <td>0.332132</td>\n",
       "      <td>0.442778</td>\n",
       "      <td>0.809070</td>\n",
       "    </tr>\n",
       "  </tbody>\n",
       "</table>\n",
       "</div>"
      ],
      "text/plain": [
       "   model_type                                         parameters  train_time  \\\n",
       "61         RF  {'max_depth': 5, 'max_features': 'log2', 'min_...    1.508849   \n",
       "63         RF  {'max_depth': 5, 'max_features': 'log2', 'min_...    1.503789   \n",
       "59         RF  {'max_depth': 5, 'max_features': 'sqrt', 'min_...    1.708672   \n",
       "57         RF  {'max_depth': 5, 'max_features': 'sqrt', 'min_...    2.207607   \n",
       "56         RF  {'max_depth': 5, 'max_features': 'sqrt', 'min_...    0.332132   \n",
       "\n",
       "    predict_time   auc-roc  \n",
       "61      1.716683  0.815936  \n",
       "63      1.608821  0.815655  \n",
       "59      1.831885  0.814522  \n",
       "57      1.833674  0.813801  \n",
       "56      0.442778  0.809070  "
      ]
     },
     "execution_count": 46,
     "metadata": {},
     "output_type": "execute_result"
    }
   ],
   "source": [
    "sorted_results.head()"
   ]
  },
  {
   "cell_type": "markdown",
   "metadata": {},
   "source": [
    "The Random Forest classifier performs better than the Naive Bayes classifier, which produces a correct classification 50% of the times."
   ]
  },
  {
   "cell_type": "code",
   "execution_count": 47,
   "metadata": {},
   "outputs": [
    {
     "data": {
      "text/html": [
       "<div>\n",
       "<style scoped>\n",
       "    .dataframe tbody tr th:only-of-type {\n",
       "        vertical-align: middle;\n",
       "    }\n",
       "\n",
       "    .dataframe tbody tr th {\n",
       "        vertical-align: top;\n",
       "    }\n",
       "\n",
       "    .dataframe thead th {\n",
       "        text-align: right;\n",
       "    }\n",
       "</style>\n",
       "<table border=\"1\" class=\"dataframe\">\n",
       "  <thead>\n",
       "    <tr style=\"text-align: right;\">\n",
       "      <th></th>\n",
       "      <th>model_type</th>\n",
       "      <th>parameters</th>\n",
       "      <th>train_time</th>\n",
       "      <th>predict_time</th>\n",
       "      <th>auc-roc</th>\n",
       "    </tr>\n",
       "  </thead>\n",
       "  <tbody>\n",
       "    <tr>\n",
       "      <th>72</th>\n",
       "      <td>NB</td>\n",
       "      <td>{}</td>\n",
       "      <td>0.064669</td>\n",
       "      <td>0.07989</td>\n",
       "      <td>0.5</td>\n",
       "    </tr>\n",
       "  </tbody>\n",
       "</table>\n",
       "</div>"
      ],
      "text/plain": [
       "   model_type parameters  train_time  predict_time  auc-roc\n",
       "72         NB         {}    0.064669       0.07989      0.5"
      ]
     },
     "execution_count": 47,
     "metadata": {},
     "output_type": "execute_result"
    }
   ],
   "source": [
    "sorted_results[sorted_results[\"model_type\"] ==\"NB\"]"
   ]
  },
  {
   "cell_type": "code",
   "execution_count": 48,
   "metadata": {},
   "outputs": [],
   "source": [
    "index = sorted_results.head(1).index.values"
   ]
  },
  {
   "cell_type": "code",
   "execution_count": 49,
   "metadata": {
    "scrolled": true
   },
   "outputs": [
    {
     "data": {
      "image/png": "[encoded data removed]",
      "text/plain": [
       "<Figure size 432x288 with 2 Axes>"
      ]
     },
     "metadata": {},
     "output_type": "display_data"
    }
   ],
   "source": [
    "plot_confusion_matrix(matrix[index[0]]['matrix'], ['Non-Deliquents', 'Deliquents'], matrix[index[0]]['title'])"
   ]
  },
  {
   "cell_type": "markdown",
   "metadata": {},
   "source": [
    "## Summary of Results"
   ]
  },
  {
   "cell_type": "markdown",
   "metadata": {},
   "source": [
    "The Random Forests classifier outperformed Logistic Regression and Decision Trees on the Validation set.\n",
    "\n",
    "The accuracy for the best model on the validation set was 81.6%, which means that, on average, our predictions will be correct 82.7% of the times.\n",
    "\n",
    "Nevertheless, we will make mistakes. As the confusion matrix shows, the classifier is very good at predicting non-deliquents, but not so good at predicting deliquents.\n",
    "\n",
    "\n",
    "This makes sense when we consider that most of the observations in our data set are non-deliquents. Since the validation set is a random sample of this data, the distribution of non-deliquents should be similar to the one in the training set.\n",
    "\n",
    "From a business perspective, the biggest problem is not able to classify deliquents correctly.\n",
    "\n",
    "Currently, our misclassification rate is: $\\displaystyle \\frac{4953}{4953 + 2547} = 0.66$, which shows that it is necessary to improve our model given the business context.\n",
    "\n",
    "Room for improvement:\n",
    "\n",
    "- Change the classification threshold (currently 0.5)\n",
    "\n",
    "- Increase parameter space\n",
    "\n",
    "- Consult domain experts for feature engineering"
   ]
  },
  {
   "cell_type": "code",
   "execution_count": null,
   "metadata": {},
   "outputs": [],
   "source": []
  }
 ],
 "metadata": {
  "kernelspec": {
   "display_name": "Python 3",
   "language": "python",
   "name": "python3"
  },
  "language_info": {
   "codemirror_mode": {
    "name": "ipython",
    "version": 3
   },
   "file_extension": ".py",
   "mimetype": "text/x-python",
   "name": "python",
   "nbconvert_exporter": "python",
   "pygments_lexer": "ipython3",
   "version": "3.6.4"
  }
 },
 "nbformat": 4,
 "nbformat_minor": 1
}
