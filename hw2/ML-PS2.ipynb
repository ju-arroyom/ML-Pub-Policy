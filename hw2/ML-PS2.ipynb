{
 "cells": [
  {
   "cell_type": "markdown",
   "metadata": {},
   "source": [
    "# ML- PS2, Juan Arroyo Miranda"
   ]
  },
  {
   "cell_type": "code",
   "execution_count": 19,
   "metadata": {
    "collapsed": false
   },
   "outputs": [],
   "source": [
    "%matplotlib inline\n",
    "%run process_data\n",
    "import matplotlib.pyplot as plt\n",
    "import matplotlib.ticker as tkr\n",
    "import os\n",
    "import pandas as pd\n",
    "import numpy as np\n",
    "\n",
    "def read_data(raw_file):\n",
    "    filename, file_extension = os.path.splitext(raw_file)\n",
    "    if file_extension.endswith('.csv'):\n",
    "        df =  pd.read_csv(raw_file, header=0)\n",
    "        # Lower case names for columns\n",
    "        df.columns = map(str.lower, df.columns)\n",
    "\n",
    "    return df"
   ]
  },
  {
   "cell_type": "code",
   "execution_count": 2,
   "metadata": {
    "collapsed": false
   },
   "outputs": [],
   "source": [
    "df = read_data('credit-data.csv')"
   ]
  },
  {
   "cell_type": "markdown",
   "metadata": {},
   "source": [
    "## Data summary"
   ]
  },
  {
   "cell_type": "markdown",
   "metadata": {},
   "source": [
    "### No general function was created for the summary statistics because it would depend on the underlying data structure. In this case, a pandas dataframe. I decided to use pandas functions to present the information."
   ]
  },
  {
   "cell_type": "code",
   "execution_count": 3,
   "metadata": {
    "collapsed": false
   },
   "outputs": [
    {
     "data": {
      "text/plain": [
       "personid                               75000.500000\n",
       "seriousdlqin2yrs                           0.066840\n",
       "revolvingutilizationofunsecuredlines       6.048438\n",
       "age                                       52.295207\n",
       "zipcode                                60648.810013\n",
       "numberoftime30-59dayspastduenotworse       0.421033\n",
       "debtratio                                353.005076\n",
       "monthlyincome                           6670.221237\n",
       "numberofopencreditlinesandloans            8.452760\n",
       "numberoftimes90dayslate                    0.265973\n",
       "numberrealestateloansorlines               1.018240\n",
       "numberoftime60-89dayspastduenotworse       0.240387\n",
       "numberofdependents                         0.757222\n",
       "dtype: float64"
      ]
     },
     "execution_count": 3,
     "metadata": {},
     "output_type": "execute_result"
    }
   ],
   "source": [
    "pd.set_option('display.float_format', lambda x: '%3f' % x)\n",
    "df.mean()"
   ]
  },
  {
   "cell_type": "code",
   "execution_count": 4,
   "metadata": {
    "collapsed": false
   },
   "outputs": [
    {
     "data": {
      "text/plain": [
       "personid                              0            nan\n",
       "seriousdlqin2yrs                      0       0.000000\n",
       "revolvingutilizationofunsecuredlines  0       0.000000\n",
       "age                                   0      49.000000\n",
       "zipcode                               0   60625.000000\n",
       "numberoftime30-59dayspastduenotworse  0       0.000000\n",
       "debtratio                             0       0.000000\n",
       "monthlyincome                         0    5000.000000\n",
       "numberofopencreditlinesandloans       0       6.000000\n",
       "numberoftimes90dayslate               0       0.000000\n",
       "numberrealestateloansorlines          0       0.000000\n",
       "numberoftime60-89dayspastduenotworse  0       0.000000\n",
       "numberofdependents                    0       0.000000\n",
       "dtype: float64"
      ]
     },
     "execution_count": 4,
     "metadata": {},
     "output_type": "execute_result"
    }
   ],
   "source": [
    "df.mode().unstack()"
   ]
  },
  {
   "cell_type": "code",
   "execution_count": 5,
   "metadata": {
    "collapsed": false
   },
   "outputs": [
    {
     "data": {
      "text/plain": [
       "personid                                    0\n",
       "seriousdlqin2yrs                            0\n",
       "revolvingutilizationofunsecuredlines        0\n",
       "age                                         0\n",
       "zipcode                                     0\n",
       "numberoftime30-59dayspastduenotworse        0\n",
       "debtratio                                   0\n",
       "monthlyincome                           29731\n",
       "numberofopencreditlinesandloans             0\n",
       "numberoftimes90dayslate                     0\n",
       "numberrealestateloansorlines                0\n",
       "numberoftime60-89dayspastduenotworse        0\n",
       "numberofdependents                       3924\n",
       "dtype: int64"
      ]
     },
     "execution_count": 5,
     "metadata": {},
     "output_type": "execute_result"
    }
   ],
   "source": [
    "df.isnull().sum()"
   ]
  },
  {
   "cell_type": "markdown",
   "metadata": {},
   "source": [
    "Two variables have missing values that will be necessary to impute: monthly income and number of dependents."
   ]
  },
  {
   "cell_type": "markdown",
   "metadata": {},
   "source": [
    "### Number of Dependents"
   ]
  },
  {
   "cell_type": "code",
   "execution_count": 20,
   "metadata": {
    "collapsed": false
   },
   "outputs": [
    {
     "data": {
      "text/html": [
       "<div>\n",
       "<table border=\"1\" class=\"dataframe\">\n",
       "  <thead>\n",
       "    <tr style=\"text-align: right;\">\n",
       "      <th></th>\n",
       "      <th>numberofdependents</th>\n",
       "      <th>cumsum</th>\n",
       "      <th>percentage</th>\n",
       "    </tr>\n",
       "  </thead>\n",
       "  <tbody>\n",
       "    <tr>\n",
       "      <th>0.000000</th>\n",
       "      <td>86902</td>\n",
       "      <td>86902</td>\n",
       "      <td>59.490950</td>\n",
       "    </tr>\n",
       "    <tr>\n",
       "      <th>1.000000</th>\n",
       "      <td>26316</td>\n",
       "      <td>113218</td>\n",
       "      <td>77.506230</td>\n",
       "    </tr>\n",
       "    <tr>\n",
       "      <th>2.000000</th>\n",
       "      <td>19522</td>\n",
       "      <td>132740</td>\n",
       "      <td>90.870506</td>\n",
       "    </tr>\n",
       "    <tr>\n",
       "      <th>3.000000</th>\n",
       "      <td>9483</td>\n",
       "      <td>142223</td>\n",
       "      <td>97.362332</td>\n",
       "    </tr>\n",
       "    <tr>\n",
       "      <th>4.000000</th>\n",
       "      <td>2862</td>\n",
       "      <td>145085</td>\n",
       "      <td>99.321586</td>\n",
       "    </tr>\n",
       "    <tr>\n",
       "      <th>5.000000</th>\n",
       "      <td>746</td>\n",
       "      <td>145831</td>\n",
       "      <td>99.832279</td>\n",
       "    </tr>\n",
       "    <tr>\n",
       "      <th>6.000000</th>\n",
       "      <td>158</td>\n",
       "      <td>145989</td>\n",
       "      <td>99.940442</td>\n",
       "    </tr>\n",
       "    <tr>\n",
       "      <th>7.000000</th>\n",
       "      <td>51</td>\n",
       "      <td>146040</td>\n",
       "      <td>99.975355</td>\n",
       "    </tr>\n",
       "    <tr>\n",
       "      <th>8.000000</th>\n",
       "      <td>24</td>\n",
       "      <td>146064</td>\n",
       "      <td>99.991785</td>\n",
       "    </tr>\n",
       "    <tr>\n",
       "      <th>9.000000</th>\n",
       "      <td>5</td>\n",
       "      <td>146069</td>\n",
       "      <td>99.995208</td>\n",
       "    </tr>\n",
       "    <tr>\n",
       "      <th>10.000000</th>\n",
       "      <td>5</td>\n",
       "      <td>146074</td>\n",
       "      <td>99.998631</td>\n",
       "    </tr>\n",
       "    <tr>\n",
       "      <th>13.000000</th>\n",
       "      <td>1</td>\n",
       "      <td>146075</td>\n",
       "      <td>99.999315</td>\n",
       "    </tr>\n",
       "    <tr>\n",
       "      <th>20.000000</th>\n",
       "      <td>1</td>\n",
       "      <td>146076</td>\n",
       "      <td>100.000000</td>\n",
       "    </tr>\n",
       "  </tbody>\n",
       "</table>\n",
       "</div>"
      ],
      "text/plain": [
       "           numberofdependents  cumsum  percentage\n",
       "0.000000                86902   86902   59.490950\n",
       "1.000000                26316  113218   77.506230\n",
       "2.000000                19522  132740   90.870506\n",
       "3.000000                 9483  142223   97.362332\n",
       "4.000000                 2862  145085   99.321586\n",
       "5.000000                  746  145831   99.832279\n",
       "6.000000                  158  145989   99.940442\n",
       "7.000000                   51  146040   99.975355\n",
       "8.000000                   24  146064   99.991785\n",
       "9.000000                    5  146069   99.995208\n",
       "10.000000                   5  146074   99.998631\n",
       "13.000000                   1  146075   99.999315\n",
       "20.000000                   1  146076  100.000000"
      ]
     },
     "execution_count": 20,
     "metadata": {},
     "output_type": "execute_result"
    }
   ],
   "source": [
    "des_num_dep(df)"
   ]
  },
  {
   "cell_type": "code",
   "execution_count": 8,
   "metadata": {
    "collapsed": false
   },
   "outputs": [
    {
     "data": {
      "image/png": "[encoded data removed]",
      "text/plain": [
       "<matplotlib.figure.Figure at 0x7fa6c0316080>"
      ]
     },
     "metadata": {},
     "output_type": "display_data"
    }
   ],
   "source": [
    "fig, (ax1, ax2) = plt.subplots(1,2, figsize=(10,4))\n",
    "\n",
    "df['numberofdependents'].plot(kind = \"hist\", alpha = 0.2, bins = 20, color ='r', ax = ax1); \n",
    "ax1.set_title('Distribution of Number of Dependents');\n",
    "ax1.grid()\n",
    "df.boxplot(column='numberofdependents', ax = ax2); ax2.set_title('Boxplot of Number of Dependents')\n",
    "\n",
    "plt.tight_layout()"
   ]
  },
  {
   "cell_type": "markdown",
   "metadata": {},
   "source": [
    "The plots show that the distribution of the number of dependents is skewed to the right, with most people (86,902) having zero dependents. The boxplot shows the presence of some outliers, however, 90.87 % of the sample population concentrates between 0 and 2 dependents. Therefore, it would be reasonable to impute dependents drawn randomly between 0 and 2, taking  into account the frequencies observed in the data."
   ]
  },
  {
   "cell_type": "markdown",
   "metadata": {},
   "source": [
    "## Monthly Income"
   ]
  },
  {
   "cell_type": "code",
   "execution_count": 9,
   "metadata": {
    "collapsed": false,
    "scrolled": true
   },
   "outputs": [
    {
     "name": "stdout",
     "output_type": "stream",
     "text": [
      "count    120269.000000\n",
      "mean       6670.221237\n",
      "std       14384.674215\n",
      "min           0.000000\n",
      "25%        3400.000000\n",
      "50%        5400.000000\n",
      "75%        8249.000000\n",
      "max     3008750.000000\n",
      "Name: monthlyincome, dtype: float64\n"
     ]
    }
   ],
   "source": [
    "print(df['monthlyincome'].describe(include = 'all'))\n"
   ]
  },
  {
   "cell_type": "code",
   "execution_count": 10,
   "metadata": {
    "collapsed": false
   },
   "outputs": [
    {
     "name": "stdout",
     "output_type": "stream",
     "text": [
      "10 Nan percentile 2005.0 | percentile 2325.0\n",
      "15 Nan percentile 2500.0 | percentile 2904.0\n",
      "20 Nan percentile 3000.0 | percentile 3400.0\n",
      "25 Nan percentile 3400.0 | percentile 3903.0\n",
      "30 Nan percentile 3800.0 | percentile 4333.0\n",
      "35 Nan percentile 4166.0 | percentile 4906.0\n",
      "40 Nan percentile 4544.2 | percentile 5400.0\n",
      "45 Nan percentile 5000.0 | percentile 6000.0\n",
      "50 Nan percentile 5400.0 | percentile 6600.0\n",
      "55 Nan percentile 5855.0 | percentile 7339.0\n",
      "60 Nan percentile 6300.0 | percentile 8200.0\n",
      "65 Nan percentile 6916.0 | percentile 9318.0\n",
      "70 Nan percentile 7500.0 | percentile 10660.0\n",
      "75 Nan percentile 8249.0 | percentile 13333.0\n",
      "80 Nan percentile 9083.0 | percentile 54166.0\n",
      "85 Nan percentile 10100.0 | percentile nan\n",
      "90 Nan percentile 11666.0 | percentile nan\n",
      "95 Nan percentile 14587.6 | percentile nan\n",
      "100 Nan percentile 3008750.0 | percentile nan\n"
     ]
    }
   ],
   "source": [
    "# Income deciles is a better description of the data (ignoring nan)\n",
    "for i in range(10,101,5):\n",
    " print(i, 'Nan percentile', np.nanpercentile(df['monthlyincome'], i), \"|\", 'percentile', np.percentile(df['monthlyincome'], i) )\n"
   ]
  },
  {
   "cell_type": "code",
   "execution_count": 11,
   "metadata": {
    "collapsed": false
   },
   "outputs": [
    {
     "data": {
      "image/png": "[encoded data removed]",
      "text/plain": [
       "<matplotlib.figure.Figure at 0x7fa6a4155908>"
      ]
     },
     "metadata": {},
     "output_type": "display_data"
    }
   ],
   "source": [
    "fig, ((ax1, ax2), (ax3, ax4))= plt.subplots(2,2, figsize=(10,10))\n",
    "# Overall Income Distribution\n",
    "df.boxplot(column='monthlyincome', ax = ax1); ax1.set_title('Overall income distribution')\n",
    "# Up to 80th percentile\n",
    "df.monthlyincome[(df['monthlyincome']<=54166)].plot(kind = \"hist\", alpha = 0.2, color ='blue', bins= 20, ax = ax2); \n",
    "ax2.set_title('Monthly Income Dist. up to 80th percentile');\n",
    "ax2.grid()\n",
    "\n",
    "# Monthly income above $54,166 and below $1,000,000\n",
    "df.monthlyincome[(df['monthlyincome']> 54166) & (df['monthlyincome']<=1000000)].plot(kind = \"hist\", alpha = 0.2, color ='r', bins= 20, ax = ax3); \n",
    "ax3.set_title('Monthly Income Dist. > 80th percentile < $1,000,000');\n",
    "ax3.ticklabel_format(style='sci', axis='x', scilimits=(0,0));\n",
    "ax3.set_xlabel('Income in Sci Notation')\n",
    "ax3.grid()\n",
    "# Income distribution above $1,000,000\n",
    "df.monthlyincome[(df['monthlyincome']>1000000)].plot(kind = \"hist\", alpha = 0.2, color ='black', bins= 20, ax = ax4); \n",
    "ax4.set_title('Monthly Income Dist. above $1,000,000');\n",
    "ax4.ticklabel_format(style='sci', axis='x', scilimits=(0,0));\n",
    "ax4.set_xlabel('Income in Sci Notation')\n",
    "ax4.grid()\n",
    "plt.tight_layout()"
   ]
  },
  {
   "cell_type": "markdown",
   "metadata": {},
   "source": [
    "As expected, the monthly income distribution is asymmetric. We can observe this, once we divide the distribution by deciles. The first plot (right top corner) shows the income distribution up to the 80th percentile, it is clear that most people earn less than \\$10,000 per month.\n",
    "Above the 80th percentile and below $1,000,000, we observe the same pattern with most people earning around \\$100,000 per month.\n",
    "It is intersting to note that the percentile function returns nan (versus nanpercentile function) for percentiles equal to and above the 85th percentile. This might suggest that the richest people in the sample tend not to report their monthly income.\n",
    "\n",
    "Since we have 29,731 missing values, it might safe to assume that they come from the average population and not from the outliers. Therefore, I decided to impute the data with the mean value."
   ]
  },
  {
   "cell_type": "markdown",
   "metadata": {},
   "source": [
    "## Discretize and Visualize data"
   ]
  },
  {
   "cell_type": "code",
   "execution_count": null,
   "metadata": {
    "collapsed": true
   },
   "outputs": [],
   "source": [
    "\n",
    "income_bucket = discretize(df, 'monthlyincome', bins_income)"
   ]
  },
  {
   "cell_type": "markdown",
   "metadata": {},
   "source": [
    "## Splitting Data and doing imputation"
   ]
  },
  {
   "cell_type": "code",
   "execution_count": 14,
   "metadata": {
    "collapsed": true
   },
   "outputs": [],
   "source": [
    "is_test = np.random.uniform(0, 1, len(df)) > 0.75\n",
    "train = df[is_test==False]\n",
    "test = df[is_test==True]"
   ]
  },
  {
   "cell_type": "markdown",
   "metadata": {},
   "source": [
    "### What are the missing data patterns for the training and testing sets?"
   ]
  },
  {
   "cell_type": "code",
   "execution_count": 17,
   "metadata": {
    "collapsed": false,
    "scrolled": true
   },
   "outputs": [
    {
     "data": {
      "text/plain": [
       "personid                                    0\n",
       "seriousdlqin2yrs                            0\n",
       "revolvingutilizationofunsecuredlines        0\n",
       "age                                         0\n",
       "zipcode                                     0\n",
       "numberoftime30-59dayspastduenotworse        0\n",
       "debtratio                                   0\n",
       "monthlyincome                           22248\n",
       "numberofopencreditlinesandloans             0\n",
       "numberoftimes90dayslate                     0\n",
       "numberrealestateloansorlines                0\n",
       "numberoftime60-89dayspastduenotworse        0\n",
       "numberofdependents                       2911\n",
       "bins_monthlyincome                      23794\n",
       "dtype: int64"
      ]
     },
     "execution_count": 17,
     "metadata": {},
     "output_type": "execute_result"
    }
   ],
   "source": [
    "train.isnull().sum()"
   ]
  },
  {
   "cell_type": "code",
   "execution_count": 39,
   "metadata": {
    "collapsed": false
   },
   "outputs": [
    {
     "data": {
      "text/plain": [
       "personid                                   0\n",
       "seriousdlqin2yrs                           0\n",
       "revolvingutilizationofunsecuredlines       0\n",
       "age                                        0\n",
       "zipcode                                    0\n",
       "numberoftime30-59dayspastduenotworse       0\n",
       "debtratio                                  0\n",
       "monthlyincome                           7483\n",
       "numberofopencreditlinesandloans            0\n",
       "numberoftimes90dayslate                    0\n",
       "numberrealestateloansorlines               0\n",
       "numberoftime60-89dayspastduenotworse       0\n",
       "numberofdependents                         0\n",
       "bins_monthlyincome                      7924\n",
       "dtype: int64"
      ]
     },
     "execution_count": 39,
     "metadata": {},
     "output_type": "execute_result"
    }
   ],
   "source": [
    "test.isnull().sum()"
   ]
  },
  {
   "cell_type": "code",
   "execution_count": 34,
   "metadata": {
    "collapsed": false
   },
   "outputs": [
    {
     "data": {
      "text/html": [
       "<div>\n",
       "<table border=\"1\" class=\"dataframe\">\n",
       "  <thead>\n",
       "    <tr style=\"text-align: right;\">\n",
       "      <th></th>\n",
       "      <th>numberofdependents</th>\n",
       "      <th>cumsum</th>\n",
       "      <th>percentage</th>\n",
       "    </tr>\n",
       "  </thead>\n",
       "  <tbody>\n",
       "    <tr>\n",
       "      <th>0.000000</th>\n",
       "      <td>65174</td>\n",
       "      <td>65174</td>\n",
       "      <td>65.454801</td>\n",
       "    </tr>\n",
       "    <tr>\n",
       "      <th>1.000000</th>\n",
       "      <td>19751</td>\n",
       "      <td>84925</td>\n",
       "      <td>85.290898</td>\n",
       "    </tr>\n",
       "    <tr>\n",
       "      <th>2.000000</th>\n",
       "      <td>14646</td>\n",
       "      <td>99571</td>\n",
       "      <td>100.000000</td>\n",
       "    </tr>\n",
       "  </tbody>\n",
       "</table>\n",
       "</div>"
      ],
      "text/plain": [
       "          numberofdependents  cumsum  percentage\n",
       "0.000000               65174   65174   65.454801\n",
       "1.000000               19751   84925   85.290898\n",
       "2.000000               14646   99571  100.000000"
      ]
     },
     "execution_count": 34,
     "metadata": {},
     "output_type": "execute_result"
    }
   ],
   "source": [
    "des_num_dep(train[train.numberofdependents<3])"
   ]
  },
  {
   "cell_type": "code",
   "execution_count": 35,
   "metadata": {
    "collapsed": false,
    "scrolled": true
   },
   "outputs": [
    {
     "data": {
      "text/html": [
       "<div>\n",
       "<table border=\"1\" class=\"dataframe\">\n",
       "  <thead>\n",
       "    <tr style=\"text-align: right;\">\n",
       "      <th></th>\n",
       "      <th>numberofdependents</th>\n",
       "      <th>cumsum</th>\n",
       "      <th>percentage</th>\n",
       "    </tr>\n",
       "  </thead>\n",
       "  <tbody>\n",
       "    <tr>\n",
       "      <th>0.000000</th>\n",
       "      <td>21728</td>\n",
       "      <td>21728</td>\n",
       "      <td>65.506949</td>\n",
       "    </tr>\n",
       "    <tr>\n",
       "      <th>1.000000</th>\n",
       "      <td>6565</td>\n",
       "      <td>28293</td>\n",
       "      <td>85.299527</td>\n",
       "    </tr>\n",
       "    <tr>\n",
       "      <th>2.000000</th>\n",
       "      <td>4876</td>\n",
       "      <td>33169</td>\n",
       "      <td>100.000000</td>\n",
       "    </tr>\n",
       "  </tbody>\n",
       "</table>\n",
       "</div>"
      ],
      "text/plain": [
       "          numberofdependents  cumsum  percentage\n",
       "0.000000               21728   21728   65.506949\n",
       "1.000000                6565   28293   85.299527\n",
       "2.000000                4876   33169  100.000000"
      ]
     },
     "execution_count": 35,
     "metadata": {},
     "output_type": "execute_result"
    }
   ],
   "source": [
    "des_num_dep(test[test.numberofdependents<3])"
   ]
  },
  {
   "cell_type": "code",
   "execution_count": 30,
   "metadata": {
    "collapsed": false
   },
   "outputs": [
    {
     "data": {
      "image/png": "[encoded data removed]",
      "text/plain": [
       "<matplotlib.figure.Figure at 0x7fa6a2468ac8>"
      ]
     },
     "metadata": {},
     "output_type": "display_data"
    }
   ],
   "source": [
    "fig, (ax1, ax2) = plt.subplots(1,2, figsize=(10,4))\n",
    "\n",
    "train['numberofdependents'].plot(kind = \"hist\", alpha = 0.2, bins = 20, color ='r', ax = ax1); \n",
    "ax1.set_title('Dist.of Number of Dependents Training Set');\n",
    "ax1.grid()\n",
    "test['numberofdependents'].plot(kind = \"hist\", alpha = 0.2, bins = 20, color ='b', ax = ax2); \n",
    "ax2.set_title('Dist. of Number of Dependents Testing Set')\n",
    "ax2.grid()\n",
    "plt.tight_layout()"
   ]
  },
  {
   "cell_type": "markdown",
   "metadata": {},
   "source": [
    "Data imputation "
   ]
  },
  {
   "cell_type": "code",
   "execution_count": 37,
   "metadata": {
    "collapsed": false
   },
   "outputs": [],
   "source": [
    "impute_val_to_column(train,'numberofdependents', 'random', 0, 3, [0.65,0.2,0.15])"
   ]
  },
  {
   "cell_type": "code",
   "execution_count": 38,
   "metadata": {
    "collapsed": false
   },
   "outputs": [
    {
     "data": {
      "text/plain": [
       "personid                                    0\n",
       "seriousdlqin2yrs                            0\n",
       "revolvingutilizationofunsecuredlines        0\n",
       "age                                         0\n",
       "zipcode                                     0\n",
       "numberoftime30-59dayspastduenotworse        0\n",
       "debtratio                                   0\n",
       "monthlyincome                           22248\n",
       "numberofopencreditlinesandloans             0\n",
       "numberoftimes90dayslate                     0\n",
       "numberrealestateloansorlines                0\n",
       "numberoftime60-89dayspastduenotworse        0\n",
       "numberofdependents                          0\n",
       "bins_monthlyincome                      23794\n",
       "dtype: int64"
      ]
     },
     "execution_count": 38,
     "metadata": {},
     "output_type": "execute_result"
    }
   ],
   "source": [
    "train.corr()"
   ]
  },
  {
   "cell_type": "code",
   "execution_count": 12,
   "metadata": {
    "collapsed": true
   },
   "outputs": [],
   "source": [
    "bins_income = range(0, 50000, 5000)"
   ]
  },
  {
   "cell_type": "code",
   "execution_count": 13,
   "metadata": {
    "collapsed": false
   },
   "outputs": [],
   "source": [
    "income_bucket = discretize(df, 'monthlyincome', bins_income)"
   ]
  },
  {
   "cell_type": "code",
   "execution_count": 251,
   "metadata": {
    "collapsed": false
   },
   "outputs": [
    {
     "data": {
      "text/plain": [
       "(0, 5000]         54225\n",
       "(5000, 10000]     46091\n",
       "(10000, 15000]    13035\n",
       "(15000, 20000]     3181\n",
       "(20000, 25000]      935\n",
       "(25000, 30000]      376\n",
       "(30000, 35000]      203\n",
       "(35000, 40000]      140\n",
       "(40000, 45000]       96\n",
       "Name: bins_monthlyincome, dtype: int64"
      ]
     },
     "execution_count": 251,
     "metadata": {},
     "output_type": "execute_result"
    }
   ],
   "source": [
    "df['bins_monthlyincome'].value_counts()"
   ]
  },
  {
   "cell_type": "code",
   "execution_count": 278,
   "metadata": {
    "collapsed": false
   },
   "outputs": [],
   "source": [
    "impute_val_to_column(df,'numberofdependents', 'random', 0, 3, [0.65,0.2,0.15] )"
   ]
  },
  {
   "cell_type": "code",
   "execution_count": 279,
   "metadata": {
    "collapsed": false
   },
   "outputs": [
    {
     "data": {
      "text/html": [
       "<div>\n",
       "<table border=\"1\" class=\"dataframe\">\n",
       "  <thead>\n",
       "    <tr style=\"text-align: right;\">\n",
       "      <th></th>\n",
       "      <th>numberofdependents</th>\n",
       "    </tr>\n",
       "  </thead>\n",
       "  <tbody>\n",
       "    <tr>\n",
       "      <th>0.000000</th>\n",
       "      <td>90826</td>\n",
       "    </tr>\n",
       "    <tr>\n",
       "      <th>1.000000</th>\n",
       "      <td>26316</td>\n",
       "    </tr>\n",
       "    <tr>\n",
       "      <th>2.000000</th>\n",
       "      <td>19522</td>\n",
       "    </tr>\n",
       "    <tr>\n",
       "      <th>3.000000</th>\n",
       "      <td>9483</td>\n",
       "    </tr>\n",
       "    <tr>\n",
       "      <th>4.000000</th>\n",
       "      <td>2862</td>\n",
       "    </tr>\n",
       "    <tr>\n",
       "      <th>5.000000</th>\n",
       "      <td>746</td>\n",
       "    </tr>\n",
       "    <tr>\n",
       "      <th>6.000000</th>\n",
       "      <td>158</td>\n",
       "    </tr>\n",
       "    <tr>\n",
       "      <th>7.000000</th>\n",
       "      <td>51</td>\n",
       "    </tr>\n",
       "    <tr>\n",
       "      <th>8.000000</th>\n",
       "      <td>24</td>\n",
       "    </tr>\n",
       "    <tr>\n",
       "      <th>9.000000</th>\n",
       "      <td>5</td>\n",
       "    </tr>\n",
       "    <tr>\n",
       "      <th>10.000000</th>\n",
       "      <td>5</td>\n",
       "    </tr>\n",
       "    <tr>\n",
       "      <th>13.000000</th>\n",
       "      <td>1</td>\n",
       "    </tr>\n",
       "    <tr>\n",
       "      <th>20.000000</th>\n",
       "      <td>1</td>\n",
       "    </tr>\n",
       "  </tbody>\n",
       "</table>\n",
       "</div>"
      ],
      "text/plain": [
       "           numberofdependents\n",
       "0.000000                90826\n",
       "1.000000                26316\n",
       "2.000000                19522\n",
       "3.000000                 9483\n",
       "4.000000                 2862\n",
       "5.000000                  746\n",
       "6.000000                  158\n",
       "7.000000                   51\n",
       "8.000000                   24\n",
       "9.000000                    5\n",
       "10.000000                   5\n",
       "13.000000                   1\n",
       "20.000000                   1"
      ]
     },
     "execution_count": 279,
     "metadata": {},
     "output_type": "execute_result"
    }
   ],
   "source": [
    "df['numberofdependents'].value_counts().to_frame()"
   ]
  },
  {
   "cell_type": "code",
   "execution_count": 51,
   "metadata": {
    "collapsed": false
   },
   "outputs": [
    {
     "name": "stdout",
     "output_type": "stream",
     "text": [
      "**** column names:   \n",
      " ['personid' 'seriousdlqin2yrs' 'revolvingutilizationofunsecuredlines' 'age'\n",
      " 'zipcode' 'numberoftime30-59dayspastduenotworse' 'debtratio'\n",
      " 'monthlyincome' 'numberofopencreditlinesandloans'\n",
      " 'numberoftimes90dayslate' 'numberrealestateloansorlines'\n",
      " 'numberoftime60-89dayspastduenotworse' 'numberofdependents']\n",
      "**** top of the data:  \n",
      "    personid  \\\n",
      "0         1   \n",
      "1         2   \n",
      "2         3   \n",
      "3         4   \n",
      "4         5   \n",
      "\n",
      "   seriousdlqin2yrs  \\\n",
      "0                 1   \n",
      "1                 0   \n",
      "2                 0   \n",
      "3                 0   \n",
      "4                 0   \n",
      "\n",
      "   revolvingutilizationofunsecuredlines  \\\n",
      "0                                 0.766   \n",
      "1                                 0.957   \n",
      "2                                 0.658   \n",
      "3                                 0.234   \n",
      "4                                 0.907   \n",
      "\n",
      "   age  zipcode  \\\n",
      "0   45    60644   \n",
      "1   40    60637   \n",
      "2   38    60601   \n",
      "3   30    60601   \n",
      "4   49    60625   \n",
      "\n",
      "   numberoftime30-59dayspastduenotworse  \\\n",
      "0                                     2   \n",
      "1                                     0   \n",
      "2                                     1   \n",
      "3                                     0   \n",
      "4                                     1   \n",
      "\n",
      "   debtratio  \\\n",
      "0      0.803   \n",
      "1      0.122   \n",
      "2      0.085   \n",
      "3      0.036   \n",
      "4      0.025   \n",
      "\n",
      "   monthlyincome  \\\n",
      "0       9120.000   \n",
      "1       2600.000   \n",
      "2       3042.000   \n",
      "3       3300.000   \n",
      "4      63588.000   \n",
      "\n",
      "   numberofopencreditlinesandloans  \\\n",
      "0                               13   \n",
      "1                                4   \n",
      "2                                2   \n",
      "3                                5   \n",
      "4                                7   \n",
      "\n",
      "   numberoftimes90dayslate  \\\n",
      "0                        0   \n",
      "1                        0   \n",
      "2                        1   \n",
      "3                        0   \n",
      "4                        0   \n",
      "\n",
      "   numberrealestateloansorlines  \\\n",
      "0                             6   \n",
      "1                             0   \n",
      "2                             0   \n",
      "3                             0   \n",
      "4                             1   \n",
      "\n",
      "   numberoftime60-89dayspastduenotworse  \\\n",
      "0                                     0   \n",
      "1                                     0   \n",
      "2                                     0   \n",
      "3                                     0   \n",
      "4                                     0   \n",
      "\n",
      "   numberofdependents  \n",
      "0               2.000  \n",
      "1               1.000  \n",
      "2               0.000  \n",
      "3               0.000  \n",
      "4               0.000  \n",
      "**** dataframe shape:  \n",
      " (150000, 13)\n",
      "**** statistics:  \n",
      "         personid  \\\n",
      "count 150000.000   \n",
      "mean   75000.500   \n",
      "std    43301.415   \n",
      "min        1.000   \n",
      "25%    37500.750   \n",
      "50%    75000.500   \n",
      "75%   112500.250   \n",
      "max   150000.000   \n",
      "\n",
      "       seriousdlqin2yrs  \\\n",
      "count        150000.000   \n",
      "mean              0.067   \n",
      "std               0.250   \n",
      "min               0.000   \n",
      "25%               0.000   \n",
      "50%               0.000   \n",
      "75%               0.000   \n",
      "max               1.000   \n",
      "\n",
      "       revolvingutilizationofunsecuredlines  \\\n",
      "count                            150000.000   \n",
      "mean                                  6.048   \n",
      "std                                 249.755   \n",
      "min                                   0.000   \n",
      "25%                                   0.030   \n",
      "50%                                   0.154   \n",
      "75%                                   0.559   \n",
      "max                               50708.000   \n",
      "\n",
      "             age  \\\n",
      "count 150000.000   \n",
      "mean      52.295   \n",
      "std       14.772   \n",
      "min        0.000   \n",
      "25%       41.000   \n",
      "50%       52.000   \n",
      "75%       63.000   \n",
      "max      109.000   \n",
      "\n",
      "         zipcode  \\\n",
      "count 150000.000   \n",
      "mean   60648.810   \n",
      "std       56.748   \n",
      "min    60601.000   \n",
      "25%    60625.000   \n",
      "50%    60629.000   \n",
      "75%    60644.000   \n",
      "max    60804.000   \n",
      "\n",
      "       numberoftime30-59dayspastduenotworse  \\\n",
      "count                            150000.000   \n",
      "mean                                  0.421   \n",
      "std                                   4.193   \n",
      "min                                   0.000   \n",
      "25%                                   0.000   \n",
      "50%                                   0.000   \n",
      "75%                                   0.000   \n",
      "max                                  98.000   \n",
      "\n",
      "       debtratio  \\\n",
      "count 150000.000   \n",
      "mean     353.005   \n",
      "std     2037.819   \n",
      "min        0.000   \n",
      "25%        0.175   \n",
      "50%        0.367   \n",
      "75%        0.868   \n",
      "max   329664.000   \n",
      "\n",
      "       monthlyincome  \\\n",
      "count     120269.000   \n",
      "mean        6670.221   \n",
      "std        14384.674   \n",
      "min            0.000   \n",
      "25%         3400.000   \n",
      "50%         5400.000   \n",
      "75%         8249.000   \n",
      "max      3008750.000   \n",
      "\n",
      "       numberofopencreditlinesandloans  \\\n",
      "count                       150000.000   \n",
      "mean                             8.453   \n",
      "std                              5.146   \n",
      "min                              0.000   \n",
      "25%                              5.000   \n",
      "50%                              8.000   \n",
      "75%                             11.000   \n",
      "max                             58.000   \n",
      "\n",
      "       numberoftimes90dayslate  \\\n",
      "count               150000.000   \n",
      "mean                     0.266   \n",
      "std                      4.169   \n",
      "min                      0.000   \n",
      "25%                      0.000   \n",
      "50%                      0.000   \n",
      "75%                      0.000   \n",
      "max                     98.000   \n",
      "\n",
      "       numberrealestateloansorlines  \\\n",
      "count                    150000.000   \n",
      "mean                          1.018   \n",
      "std                           1.130   \n",
      "min                           0.000   \n",
      "25%                           0.000   \n",
      "50%                           1.000   \n",
      "75%                           2.000   \n",
      "max                          54.000   \n",
      "\n",
      "       numberoftime60-89dayspastduenotworse  \\\n",
      "count                            150000.000   \n",
      "mean                                  0.240   \n",
      "std                                   4.155   \n",
      "min                                   0.000   \n",
      "25%                                   0.000   \n",
      "50%                                   0.000   \n",
      "75%                                   0.000   \n",
      "max                                  98.000   \n",
      "\n",
      "       numberofdependents  \n",
      "count          146076.000  \n",
      "mean                0.757  \n",
      "std                 1.115  \n",
      "min                 0.000  \n",
      "25%                 0.000  \n",
      "50%                 0.000  \n",
      "75%                 1.000  \n",
      "max                20.000  \n",
      "**** sum of null values by column:  \n",
      " personid                                    0\n",
      "seriousdlqin2yrs                            0\n",
      "revolvingutilizationofunsecuredlines        0\n",
      "age                                         0\n",
      "zipcode                                     0\n",
      "numberoftime30-59dayspastduenotworse        0\n",
      "debtratio                                   0\n",
      "monthlyincome                           29731\n",
      "numberofopencreditlinesandloans             0\n",
      "numberoftimes90dayslate                     0\n",
      "numberrealestateloansorlines                0\n",
      "numberoftime60-89dayspastduenotworse        0\n",
      "numberofdependents                       3924\n",
      "dtype: int64\n",
      "**** correlation matrix:  \n",
      "                                       personid  \\\n",
      "personid                                 1.000   \n",
      "seriousdlqin2yrs                         0.003   \n",
      "revolvingutilizationofunsecuredlines     0.002   \n",
      "age                                      0.004   \n",
      "zipcode                                 -0.003   \n",
      "numberoftime30-59dayspastduenotworse    -0.001   \n",
      "debtratio                               -0.003   \n",
      "monthlyincome                            0.003   \n",
      "numberofopencreditlinesandloans          0.005   \n",
      "numberoftimes90dayslate                 -0.001   \n",
      "numberrealestateloansorlines            -0.001   \n",
      "numberoftime60-89dayspastduenotworse    -0.001   \n",
      "numberofdependents                      -0.000   \n",
      "\n",
      "                                      seriousdlqin2yrs  \\\n",
      "personid                                         0.003   \n",
      "seriousdlqin2yrs                                 1.000   \n",
      "revolvingutilizationofunsecuredlines            -0.002   \n",
      "age                                             -0.115   \n",
      "zipcode                                          0.005   \n",
      "numberoftime30-59dayspastduenotworse             0.126   \n",
      "debtratio                                       -0.008   \n",
      "monthlyincome                                   -0.020   \n",
      "numberofopencreditlinesandloans                 -0.030   \n",
      "numberoftimes90dayslate                          0.117   \n",
      "numberrealestateloansorlines                    -0.007   \n",
      "numberoftime60-89dayspastduenotworse             0.102   \n",
      "numberofdependents                               0.046   \n",
      "\n",
      "                                      revolvingutilizationofunsecuredlines  \\\n",
      "personid                                                             0.002   \n",
      "seriousdlqin2yrs                                                    -0.002   \n",
      "revolvingutilizationofunsecuredlines                                 1.000   \n",
      "age                                                                 -0.006   \n",
      "zipcode                                                             -0.004   \n",
      "numberoftime30-59dayspastduenotworse                                -0.001   \n",
      "debtratio                                                            0.004   \n",
      "monthlyincome                                                        0.007   \n",
      "numberofopencreditlinesandloans                                     -0.011   \n",
      "numberoftimes90dayslate                                             -0.001   \n",
      "numberrealestateloansorlines                                         0.006   \n",
      "numberoftime60-89dayspastduenotworse                                -0.001   \n",
      "numberofdependents                                                   0.002   \n",
      "\n",
      "                                        age  \\\n",
      "personid                              0.004   \n",
      "seriousdlqin2yrs                     -0.115   \n",
      "revolvingutilizationofunsecuredlines -0.006   \n",
      "age                                   1.000   \n",
      "zipcode                               0.003   \n",
      "numberoftime30-59dayspastduenotworse -0.063   \n",
      "debtratio                             0.024   \n",
      "monthlyincome                         0.038   \n",
      "numberofopencreditlinesandloans       0.148   \n",
      "numberoftimes90dayslate              -0.061   \n",
      "numberrealestateloansorlines          0.033   \n",
      "numberoftime60-89dayspastduenotworse -0.057   \n",
      "numberofdependents                   -0.213   \n",
      "\n",
      "                                      zipcode  \\\n",
      "personid                               -0.003   \n",
      "seriousdlqin2yrs                        0.005   \n",
      "revolvingutilizationofunsecuredlines   -0.004   \n",
      "age                                     0.003   \n",
      "zipcode                                 1.000   \n",
      "numberoftime30-59dayspastduenotworse    0.007   \n",
      "debtratio                               0.001   \n",
      "monthlyincome                           0.002   \n",
      "numberofopencreditlinesandloans        -0.004   \n",
      "numberoftimes90dayslate                 0.008   \n",
      "numberrealestateloansorlines           -0.001   \n",
      "numberoftime60-89dayspastduenotworse    0.008   \n",
      "numberofdependents                     -0.004   \n",
      "\n",
      "                                      numberoftime30-59dayspastduenotworse  \\\n",
      "personid                                                            -0.001   \n",
      "seriousdlqin2yrs                                                     0.126   \n",
      "revolvingutilizationofunsecuredlines                                -0.001   \n",
      "age                                                                 -0.063   \n",
      "zipcode                                                              0.007   \n",
      "numberoftime30-59dayspastduenotworse                                 1.000   \n",
      "debtratio                                                           -0.007   \n",
      "monthlyincome                                                       -0.010   \n",
      "numberofopencreditlinesandloans                                     -0.055   \n",
      "numberoftimes90dayslate                                              0.984   \n",
      "numberrealestateloansorlines                                        -0.031   \n",
      "numberoftime60-89dayspastduenotworse                                 0.987   \n",
      "numberofdependents                                                  -0.003   \n",
      "\n",
      "                                      debtratio  \\\n",
      "personid                                 -0.003   \n",
      "seriousdlqin2yrs                         -0.008   \n",
      "revolvingutilizationofunsecuredlines      0.004   \n",
      "age                                       0.024   \n",
      "zipcode                                   0.001   \n",
      "numberoftime30-59dayspastduenotworse     -0.007   \n",
      "debtratio                                 1.000   \n",
      "monthlyincome                            -0.029   \n",
      "numberofopencreditlinesandloans           0.050   \n",
      "numberoftimes90dayslate                  -0.008   \n",
      "numberrealestateloansorlines              0.120   \n",
      "numberoftime60-89dayspastduenotworse     -0.008   \n",
      "numberofdependents                       -0.041   \n",
      "\n",
      "                                      monthlyincome  \\\n",
      "personid                                      0.003   \n",
      "seriousdlqin2yrs                             -0.020   \n",
      "revolvingutilizationofunsecuredlines          0.007   \n",
      "age                                           0.038   \n",
      "zipcode                                       0.002   \n",
      "numberoftime30-59dayspastduenotworse         -0.010   \n",
      "debtratio                                    -0.029   \n",
      "monthlyincome                                 1.000   \n",
      "numberofopencreditlinesandloans               0.091   \n",
      "numberoftimes90dayslate                      -0.013   \n",
      "numberrealestateloansorlines                  0.125   \n",
      "numberoftime60-89dayspastduenotworse         -0.011   \n",
      "numberofdependents                            0.063   \n",
      "\n",
      "                                      numberofopencreditlinesandloans  \\\n",
      "personid                                                        0.005   \n",
      "seriousdlqin2yrs                                               -0.030   \n",
      "revolvingutilizationofunsecuredlines                           -0.011   \n",
      "age                                                             0.148   \n",
      "zipcode                                                        -0.004   \n",
      "numberoftime30-59dayspastduenotworse                           -0.055   \n",
      "debtratio                                                       0.050   \n",
      "monthlyincome                                                   0.091   \n",
      "numberofopencreditlinesandloans                                 1.000   \n",
      "numberoftimes90dayslate                                        -0.080   \n",
      "numberrealestateloansorlines                                    0.434   \n",
      "numberoftime60-89dayspastduenotworse                           -0.071   \n",
      "numberofdependents                                              0.065   \n",
      "\n",
      "                                      numberoftimes90dayslate  \\\n",
      "personid                                               -0.001   \n",
      "seriousdlqin2yrs                                        0.117   \n",
      "revolvingutilizationofunsecuredlines                   -0.001   \n",
      "age                                                    -0.061   \n",
      "zipcode                                                 0.008   \n",
      "numberoftime30-59dayspastduenotworse                    0.984   \n",
      "debtratio                                              -0.008   \n",
      "monthlyincome                                          -0.013   \n",
      "numberofopencreditlinesandloans                        -0.080   \n",
      "numberoftimes90dayslate                                 1.000   \n",
      "numberrealestateloansorlines                           -0.045   \n",
      "numberoftime60-89dayspastduenotworse                    0.993   \n",
      "numberofdependents                                     -0.010   \n",
      "\n",
      "                                      numberrealestateloansorlines  \\\n",
      "personid                                                    -0.001   \n",
      "seriousdlqin2yrs                                            -0.007   \n",
      "revolvingutilizationofunsecuredlines                         0.006   \n",
      "age                                                          0.033   \n",
      "zipcode                                                     -0.001   \n",
      "numberoftime30-59dayspastduenotworse                        -0.031   \n",
      "debtratio                                                    0.120   \n",
      "monthlyincome                                                0.125   \n",
      "numberofopencreditlinesandloans                              0.434   \n",
      "numberoftimes90dayslate                                     -0.045   \n",
      "numberrealestateloansorlines                                 1.000   \n",
      "numberoftime60-89dayspastduenotworse                        -0.040   \n",
      "numberofdependents                                           0.125   \n",
      "\n",
      "                                      numberoftime60-89dayspastduenotworse  \\\n",
      "personid                                                            -0.001   \n",
      "seriousdlqin2yrs                                                     0.102   \n",
      "revolvingutilizationofunsecuredlines                                -0.001   \n",
      "age                                                                 -0.057   \n",
      "zipcode                                                              0.008   \n",
      "numberoftime30-59dayspastduenotworse                                 0.987   \n",
      "debtratio                                                           -0.008   \n",
      "monthlyincome                                                       -0.011   \n",
      "numberofopencreditlinesandloans                                     -0.071   \n",
      "numberoftimes90dayslate                                              0.993   \n",
      "numberrealestateloansorlines                                        -0.040   \n",
      "numberoftime60-89dayspastduenotworse                                 1.000   \n",
      "numberofdependents                                                  -0.011   \n",
      "\n",
      "                                      numberofdependents  \n",
      "personid                                          -0.000  \n",
      "seriousdlqin2yrs                                   0.046  \n",
      "revolvingutilizationofunsecuredlines               0.002  \n",
      "age                                               -0.213  \n",
      "zipcode                                           -0.004  \n",
      "numberoftime30-59dayspastduenotworse              -0.003  \n",
      "debtratio                                         -0.041  \n",
      "monthlyincome                                      0.063  \n",
      "numberofopencreditlinesandloans                    0.065  \n",
      "numberoftimes90dayslate                           -0.010  \n",
      "numberrealestateloansorlines                       0.125  \n",
      "numberoftime60-89dayspastduenotworse              -0.011  \n",
      "numberofdependents                                 1.000  \n"
     ]
    }
   ],
   "source": [
    "print_statistics(df)"
   ]
  },
  {
   "cell_type": "code",
   "execution_count": null,
   "metadata": {
    "collapsed": true
   },
   "outputs": [],
   "source": []
  },
  {
   "cell_type": "code",
   "execution_count": 30,
   "metadata": {
    "collapsed": false
   },
   "outputs": [
    {
     "data": {
      "text/plain": [
       "'PersonID, SeriousDlqin2yrs, RevolvingUtilizationOfUnsecuredLines, age, zipcode, NumberOfTime30-59DaysPastDueNotWorse, DebtRatio, MonthlyIncome, NumberOfOpenCreditLinesAndLoans, NumberOfTimes90DaysLate, NumberRealEstateLoansOrLines, NumberOfTime60-89DaysPastDueNotWorse, NumberOfDependents'"
      ]
     },
     "execution_count": 30,
     "metadata": {},
     "output_type": "execute_result"
    }
   ],
   "source": []
  },
  {
   "cell_type": "code",
   "execution_count": null,
   "metadata": {
    "collapsed": true
   },
   "outputs": [],
   "source": []
  }
 ],
 "metadata": {
  "kernelspec": {
   "display_name": "Python 3",
   "language": "python",
   "name": "python3"
  },
  "language_info": {
   "codemirror_mode": {
    "name": "ipython",
    "version": 3
   },
   "file_extension": ".py",
   "mimetype": "text/x-python",
   "name": "python",
   "nbconvert_exporter": "python",
   "pygments_lexer": "ipython3",
   "version": "3.4.0"
  }
 },
 "nbformat": 4,
 "nbformat_minor": 0
}
